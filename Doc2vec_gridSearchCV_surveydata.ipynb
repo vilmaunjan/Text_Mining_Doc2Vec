{
 "cells": [
  {
   "cell_type": "code",
   "execution_count": 1,
   "metadata": {},
   "outputs": [
    {
     "name": "stderr",
     "output_type": "stream",
     "text": [
      "C:\\Users\\Vilma\\Anaconda3\\envs\\tensorflow\\lib\\site-packages\\gensim\\utils.py:865: UserWarning: detected Windows; aliasing chunkize to chunkize_serial\n",
      "  warnings.warn(\"detected Windows; aliasing chunkize to chunkize_serial\")\n",
      "Using TensorFlow backend.\n"
     ]
    }
   ],
   "source": [
    "from gensim.models import Doc2Vec\n",
    "import pandas as pd\n",
    "model = Doc2Vec.load('./surveyVectors.d2v')"
   ]
  },
  {
   "cell_type": "code",
   "execution_count": 2,
   "metadata": {
    "collapsed": true
   },
   "outputs": [],
   "source": [
    "df = pd.read_pickle('vectorComments')"
   ]
  },
  {
   "cell_type": "code",
   "execution_count": 3,
   "metadata": {},
   "outputs": [
    {
     "name": "stdout",
     "output_type": "stream",
     "text": [
      "   sentiment                                            comment  \\\n",
      "0          1  She present class materials with powerpoint wh...   \n",
      "\n",
      "                                 vectorized_comments  \n",
      "0  [0.0368987, -0.134596, 0.0120176, -0.0541564, ...  \n"
     ]
    }
   ],
   "source": [
    "print (df.head(1))"
   ]
  },
  {
   "cell_type": "code",
   "execution_count": 4,
   "metadata": {},
   "outputs": [
    {
     "name": "stderr",
     "output_type": "stream",
     "text": [
      "C:\\Users\\Vilma\\Anaconda3\\envs\\tensorflow\\lib\\site-packages\\sklearn\\cross_validation.py:44: DeprecationWarning: This module was deprecated in version 0.18 in favor of the model_selection module into which all the refactored classes and functions are moved. Also note that the interface of the new CV iterators are different from that of this module. This module will be removed in 0.20.\n",
      "  \"This module will be removed in 0.20.\", DeprecationWarning)\n"
     ]
    }
   ],
   "source": [
    "#Cross validation\n",
    "from sklearn import cross_validation\n",
    "from sklearn.model_selection import GridSearchCV\n",
    "from sklearn.model_selection import StratifiedKFold\n",
    "from sklearn.model_selection import KFold\n",
    "\n",
    "\n",
    "import warnings\n",
    "warnings.filterwarnings(\"ignore\", category=DeprecationWarning)\n",
    "import pickle\n",
    "\n",
    "#metrics\n",
    "from sklearn.metrics import accuracy_score\n",
    "from sklearn.metrics import make_scorer\n",
    "from sklearn.metrics import precision_score\n",
    "from sklearn.metrics import f1_score\n",
    "from sklearn.metrics import recall_score\n",
    "\n",
    "# classifiers\n",
    "from sklearn.linear_model import LogisticRegression\n",
    "from sklearn.ensemble import RandomForestClassifier as RFC\n",
    "from sklearn.neighbors import KNeighborsClassifier\n",
    "from sklearn.linear_model import SGDClassifier\n",
    "\n",
    "#plot\n",
    "import matplotlib.pyplot as plt"
   ]
  },
  {
   "cell_type": "markdown",
   "metadata": {},
   "source": [
    "## Model with knn:\n",
    "- doc2vec vectors\n",
    "- k values used are 2, 3, 7, 9\n",
    "- Cross validation fold=5"
   ]
  },
  {
   "cell_type": "code",
   "execution_count": 5,
   "metadata": {
    "collapsed": true
   },
   "outputs": [],
   "source": [
    "skf = StratifiedKFold(n_splits=5)"
   ]
  },
  {
   "cell_type": "code",
   "execution_count": 6,
   "metadata": {},
   "outputs": [
    {
     "name": "stdout",
     "output_type": "stream",
     "text": [
      "[1, 2, 3, 4, 5, 6, 7, 8, 9]\n"
     ]
    }
   ],
   "source": [
    "#This stores a list from 1 to 10, which will be used as k values from 1 to 10\n",
    "k_range=list(range(1,10))\n",
    "print(k_range)"
   ]
  },
  {
   "cell_type": "code",
   "execution_count": 7,
   "metadata": {},
   "outputs": [
    {
     "name": "stdout",
     "output_type": "stream",
     "text": [
      "{'n_neighbors': [1, 2, 3, 4, 5, 6, 7, 8, 9]}\n"
     ]
    }
   ],
   "source": [
    "#Creates a dictionary, tuple of the key of nn and its values\n",
    "param_grid = dict(n_neighbors=k_range)\n",
    "print(param_grid)"
   ]
  },
  {
   "cell_type": "code",
   "execution_count": 8,
   "metadata": {
    "collapsed": true
   },
   "outputs": [],
   "source": [
    "#Create knn classifier\n",
    "knn=KNeighborsClassifier()"
   ]
  },
  {
   "cell_type": "code",
   "execution_count": 9,
   "metadata": {
    "collapsed": true
   },
   "outputs": [],
   "source": [
    "#Use knn classifier, parameters from param_grid, k-fold = 10, and precision as the metrics score\n",
    "grid=GridSearchCV(knn,param_grid,cv=StratifiedKFold(n_splits=5),scoring='f1')"
   ]
  },
  {
   "cell_type": "code",
   "execution_count": 10,
   "metadata": {
    "collapsed": true
   },
   "outputs": [],
   "source": [
    "#Convert data arrays to lists\n",
    "X=df[\"vectorized_comments\"].T.tolist()\n",
    "y=df[\"sentiment\"].T.tolist()"
   ]
  },
  {
   "cell_type": "code",
   "execution_count": 11,
   "metadata": {},
   "outputs": [
    {
     "data": {
      "text/plain": [
       "GridSearchCV(cv=StratifiedKFold(n_splits=5, random_state=None, shuffle=False),\n",
       "       error_score='raise',\n",
       "       estimator=KNeighborsClassifier(algorithm='auto', leaf_size=30, metric='minkowski',\n",
       "           metric_params=None, n_jobs=1, n_neighbors=5, p=2,\n",
       "           weights='uniform'),\n",
       "       fit_params={}, iid=True, n_jobs=1,\n",
       "       param_grid={'n_neighbors': [1, 2, 3, 4, 5, 6, 7, 8, 9]},\n",
       "       pre_dispatch='2*n_jobs', refit=True, return_train_score=True,\n",
       "       scoring='f1', verbose=0)"
      ]
     },
     "execution_count": 11,
     "metadata": {},
     "output_type": "execute_result"
    }
   ],
   "source": [
    "#use the classifier 'grid' created in line 15 to fit our data\n",
    "#X - represents the comments\n",
    "#y - represents the labels (1 or 0)\n",
    "grid.fit(X, y)"
   ]
  },
  {
   "cell_type": "code",
   "execution_count": 12,
   "metadata": {},
   "outputs": [
    {
     "data": {
      "image/png": "[encoded data removed]",
      "text/plain": [
       "<matplotlib.figure.Figure at 0x2400b8653c8>"
      ]
     },
     "metadata": {},
     "output_type": "display_data"
    }
   ],
   "source": [
    "# plot the results of all folds for all knn values, for an specific metric\n",
    "labels = []\n",
    "for i in range(1,9):\n",
    "    plt.plot([1,2,3,4,5], grid.grid_scores_[i].cv_validation_scores)\n",
    "    labels.append(r'$knn = %i$' % (i))\n",
    "\n",
    "plt.xlabel('Value of K for KNN')\n",
    "plt.ylabel('Cross-Validated Precision')\n",
    "plt.legend(labels,ncol=4, loc='upper center', bbox_to_anchor=[0.5, 1.1], \n",
    "           columnspacing=1.0, labelspacing=0.0, handletextpad=0.0,\n",
    "           handlelength=1.5, fancybox=True, shadow=True)\n",
    "plt.show()"
   ]
  },
  {
   "cell_type": "code",
   "execution_count": 13,
   "metadata": {},
   "outputs": [
    {
     "data": {
      "text/plain": [
       "[mean: 0.89016, std: 0.02070, params: {'n_neighbors': 1},\n",
       " mean: 0.85794, std: 0.01338, params: {'n_neighbors': 2},\n",
       " mean: 0.89848, std: 0.00887, params: {'n_neighbors': 3},\n",
       " mean: 0.89041, std: 0.01898, params: {'n_neighbors': 4},\n",
       " mean: 0.90396, std: 0.01233, params: {'n_neighbors': 5},\n",
       " mean: 0.89998, std: 0.01518, params: {'n_neighbors': 6},\n",
       " mean: 0.90570, std: 0.00931, params: {'n_neighbors': 7},\n",
       " mean: 0.89922, std: 0.00830, params: {'n_neighbors': 8},\n",
       " mean: 0.90517, std: 0.00947, params: {'n_neighbors': 9}]"
      ]
     },
     "execution_count": 13,
     "metadata": {},
     "output_type": "execute_result"
    }
   ],
   "source": [
    "# view the complete results (list of named tuples)\n",
    "#Shows the mean value for each k value, as well as the standard deviation, and its parameters\n",
    "grid.grid_scores_"
   ]
  },
  {
   "cell_type": "code",
   "execution_count": 14,
   "metadata": {
    "scrolled": false
   },
   "outputs": [
    {
     "name": "stdout",
     "output_type": "stream",
     "text": [
      "{'n_neighbors': 3}\n",
      "[ 0.89473684  0.9025641   0.89583333  0.88648649  0.91304348]\n",
      "0.8984794024\n",
      "9\n"
     ]
    }
   ],
   "source": [
    "# examine the first tuple, when k=1\n",
    "print(grid.grid_scores_[2].parameters)\n",
    "print(grid.grid_scores_[2].cv_validation_scores)\n",
    "print(grid.grid_scores_[2].mean_validation_score)\n",
    "print(len(grid.grid_scores_))"
   ]
  },
  {
   "cell_type": "code",
   "execution_count": 15,
   "metadata": {},
   "outputs": [
    {
     "name": "stdout",
     "output_type": "stream",
     "text": [
      "[0.89016160862375782, 0.85793603154036224, 0.89847940240006308, 0.89041226462821188, 0.90396083337865485, 0.89997663197141597, 0.90569939541911004, 0.89921899171206077, 0.90516721145802115]\n"
     ]
    }
   ],
   "source": [
    "# create a list of the mean scores only\n",
    "grid_mean_scores = [result.mean_validation_score for result in grid.grid_scores_]\n",
    "print(grid_mean_scores)"
   ]
  },
  {
   "cell_type": "code",
   "execution_count": 16,
   "metadata": {},
   "outputs": [
    {
     "name": "stdout",
     "output_type": "stream",
     "text": [
      "0.905699395419\n",
      "{'n_neighbors': 7}\n",
      "KNeighborsClassifier(algorithm='auto', leaf_size=30, metric='minkowski',\n",
      "           metric_params=None, n_jobs=1, n_neighbors=7, p=2,\n",
      "           weights='uniform')\n"
     ]
    }
   ],
   "source": [
    "# examine the best model\n",
    "print(grid.best_score_)\n",
    "print(grid.best_params_)\n",
    "print(grid.best_estimator_)"
   ]
  },
  {
   "cell_type": "code",
   "execution_count": 17,
   "metadata": {},
   "outputs": [
    {
     "name": "stdout",
     "output_type": "stream",
     "text": [
      "[1, 1, 0, 1, 1, 1, 0, 1, 1, 1, 1, 1, 1, 1, 1, 1, 1, 1, 1, 0, 1, 1, 1, 0, 1, 0, 0, 1, 0, 0, 1, 1, 1, 1, 1, 1, 1, 1, 1, 1, 1, 0, 1, 0, 1, 1, 1, 1, 1, 1, 1, 1, 1, 1, 1, 1, 1, 1, 1, 1, 1, 1, 0, 0, 1, 0, 0, 0, 0, 0, 0, 0, 0, 0, 0, 0, 0, 0, 0, 0, 0, 0, 0, 0, 0, 0, 0, 0, 0, 0, 0, 0, 0, 0, 0, 0, 0, 0, 0, 0, 0, 0, 0, 0, 0, 0, 0, 0, 1, 1, 1, 1, 1, 1, 1, 1, 1, 1, 1, 1, 1, 1, 1, 1, 1, 1, 1, 1, 1, 1, 1, 1, 1, 1, 1, 1, 1, 1, 1, 1, 1, 1, 1, 1, 1, 1, 1, 1, 1, 1, 1, 1, 1, 1, 1, 1, 1, 1, 1, 1, 1, 1, 1, 1, 1, 1, 1, 1, 1, 1, 1, 1, 1, 1, 1, 1, 1, 1, 1, 1, 1, 1, 1, 1, 1, 1, 1, 1, 1, 1, 1, 1, 1, 1, 1, 1, 1, 1, 1, 1, 1, 1, 1, 1, 1, 1, 1, 1, 1, 1, 1, 1, 1, 1, 1, 1, 1, 1, 1, 1, 1, 1, 1, 1, 1, 1, 1, 1, 1, 1, 1, 1, 1, 1, 1, 1, 1, 1, 1, 1, 1, 1, 1, 1, 1, 1, 1, 1, 1, 1, 1, 1, 1, 1, 1, 1, 1, 1, 1, 1, 1, 1, 1, 1, 1, 1, 1, 1, 1, 1, 0, 1, 1, 1, 1, 0, 1, 1, 1, 0, 1, 1, 1, 1, 1, 1, 1, 1, 1, 1, 1, 1, 0, 1, 1, 1, 1, 1, 1, 1, 1, 1, 1, 1, 1, 1, 1, 1, 1, 1, 1, 1, 1, 1, 1, 1, 1, 1, 1, 1, 0, 1, 1, 1, 1, 1, 0, 1, 1, 1, 0, 1, 1, 1, 1, 1, 1, 1, 1, 1, 1, 1, 1, 1, 1, 1, 1, 1, 1, 1, 1, 1, 1, 1, 1, 1, 1, 0, 1, 1, 1, 1, 1, 1, 1, 0, 1, 1, 1, 1, 1, 1, 0, 1, 1, 1, 0, 1, 1, 1, 1, 1, 1, 1, 1, 1, 1, 1, 1, 1, 0, 1, 1, 1, 1, 1, 1, 0, 1, 1, 1, 1, 0, 1, 1, 1, 0, 1, 1, 1, 1, 1, 1, 1, 1, 0, 1, 0, 1, 1, 1, 1, 0, 1, 1, 1, 1, 0, 1, 1, 1, 1, 0, 1, 1, 1, 1, 1, 1, 1, 1, 1, 0, 1, 1, 1, 1, 1, 1, 1, 1, 1, 1, 1, 1, 0, 1, 1, 1, 1, 1, 1, 1, 0, 1, 1, 1, 1, 1, 1, 1, 1, 1, 1, 1, 1, 0, 0, 0, 1, 1, 1, 1, 1, 1, 1, 0, 1, 1, 1, 1, 1, 1, 1, 1, 1, 0, 1, 1, 1, 1, 1, 1, 1, 1, 1, 1, 1, 1, 0, 1, 1, 1, 0, 0, 1, 1, 1, 1, 0, 0, 0, 1, 1, 1, 1, 1, 1, 1, 1, 1, 1, 1, 1, 1, 1, 1, 1, 1, 1, 1, 1, 1]\n",
      "[1 0 0 1 1 1 1 1 1 1 1 1 1 1 1 1 1 1 1 1 1 1 1 0 1 0 1 1 1 1 1 1 1 1 1 1 1\n",
      " 1 1 1 1 1 1 0 1 1 1 1 1 1 1 1 1 1 1 1 1 1 1 1 1 0 0 1 1 1 1 1 1 1 1 1 1 1\n",
      " 1 1 1 1 1 1 1 1 1 0 1 1 1 1 0 1 0 1 1 0 1 1 1 1 1 1 1 1 1 1 1 0 1 0 1 1 1\n",
      " 1 1 1 1 1 1 1 1 1 1 1 1 1 1 1 1 1 1 1 1 1 1 1 1 1 1 1 1 1 1 1 1 1 1 1 1 1\n",
      " 1 1 1 1 1 1 1 1 1 1 1 1 1 1 1 1 1 1 1 1 1 1 1 1 1 1 1 1 1 1 1 1 1 1 1 0 1\n",
      " 1 1 1 1 1 1 1 1 1 1 1 1 1 1 1 1 1 1 1 1 1 1 1 1 1 1 1 1 1 1 1 1 1 1 1 1 1\n",
      " 1 1 1 1 1 1 1 1 1 1 1 1 1 1 1 1 1 1 1 1 1 1 1 1 1 1 1 1 1 1 1 1 1 1 1 1 1\n",
      " 1 1 1 1 1 1 1 1 1 1 1 0 1 1 1 1 1 1 1 1 1 1 1 1 1 1 1 1 1 1 0 1 1 1 1 1 1\n",
      " 1 1 1 1 1 1 1 1 1 1 1 1 1 1 1 1 1 1 1 1 0 1 1 1 1 1 1 1 0 1 1 1 1 1 1 1 1\n",
      " 1 1 1 1 1 1 1 1 1 1 1 1 1 1 1 1 1 1 1 1 1 1 1 1 1 1 1 1 1 1 1 1 1 1 1 1 1\n",
      " 1 1 1 1 1 1 0 1 1 1 1 1 1 1 1 1 1 1 1 1 1 1 1 1 1 1 1 0 1 1 1 1 0 1 1 1 1\n",
      " 1 1 1 1 1 1 1 1 1 1 1 1 1 1 1 1 1 1 1 1 1 1 1 1 1 1 1 1 1 1 1 1 1 1 1 1 1\n",
      " 1 1 1 1 1 1 1 1 1 1 1 1 1 1 1 1 1 1 1 0 1 1 1 1 1 1 1 1 1 1 1 1 1 1 1 1 1\n",
      " 1 1 1 1 1 1 1 1 1 1 1 1 1 1 1 1 1 1 1 1 1 1 1 0 1 1 1 1 1 1 1 1 0 1 1 1 1\n",
      " 1 0 1 1 1 1 1 1 1 1 1 1 1 1 1 1 1 1 1 1 1 1 1 1 1]\n",
      "[[ 18  71]\n",
      " [  7 447]]\n"
     ]
    }
   ],
   "source": [
    "from sklearn.metrics import confusion_matrix\n",
    "y_pred = grid.best_estimator_.predict(X)\n",
    "print(y)\n",
    "print(y_pred)\n",
    "print(confusion_matrix(y, y_pred))"
   ]
  },
  {
   "cell_type": "markdown",
   "metadata": {},
   "source": [
    "## Model with Random Forest Classifier (RFC)\n",
    "A random forest is a meta estimator that fits a number of decision tree classifiers on various sub-samples of the dataset and use averaging to improve the predictive accuracy and control over-fitting.\n",
    "\n",
    "bootstrap = [True] ---> samples are drawn with replacement if bootstrap=True (default)."
   ]
  },
  {
   "cell_type": "code",
   "execution_count": 18,
   "metadata": {},
   "outputs": [
    {
     "name": "stderr",
     "output_type": "stream",
     "text": [
      "[Parallel(n_jobs=1)]: Done 200 out of 200 | elapsed:    1.3s finished\n",
      "[Parallel(n_jobs=1)]: Done 200 out of 200 | elapsed:    0.0s finished\n",
      "[Parallel(n_jobs=1)]: Done 200 out of 200 | elapsed:    0.0s finished\n",
      "[Parallel(n_jobs=1)]: Done 200 out of 200 | elapsed:    1.2s finished\n",
      "[Parallel(n_jobs=1)]: Done 200 out of 200 | elapsed:    0.0s finished\n",
      "[Parallel(n_jobs=1)]: Done 200 out of 200 | elapsed:    0.0s finished\n",
      "[Parallel(n_jobs=1)]: Done 200 out of 200 | elapsed:    1.2s finished\n",
      "[Parallel(n_jobs=1)]: Done 200 out of 200 | elapsed:    0.0s finished\n",
      "[Parallel(n_jobs=1)]: Done 200 out of 200 | elapsed:    0.0s finished\n",
      "[Parallel(n_jobs=1)]: Done 200 out of 200 | elapsed:    1.2s finished\n",
      "[Parallel(n_jobs=1)]: Done 200 out of 200 | elapsed:    0.0s finished\n",
      "[Parallel(n_jobs=1)]: Done 200 out of 200 | elapsed:    0.0s finished\n",
      "[Parallel(n_jobs=1)]: Done 200 out of 200 | elapsed:    1.2s finished\n",
      "[Parallel(n_jobs=1)]: Done 200 out of 200 | elapsed:    0.0s finished\n",
      "[Parallel(n_jobs=1)]: Done 200 out of 200 | elapsed:    0.0s finished\n",
      "[Parallel(n_jobs=1)]: Done 400 out of 400 | elapsed:    2.6s finished\n",
      "[Parallel(n_jobs=1)]: Done 400 out of 400 | elapsed:    0.0s finished\n",
      "[Parallel(n_jobs=1)]: Done 400 out of 400 | elapsed:    0.1s finished\n",
      "[Parallel(n_jobs=1)]: Done 400 out of 400 | elapsed:    2.5s finished\n",
      "[Parallel(n_jobs=1)]: Done 400 out of 400 | elapsed:    0.0s finished\n",
      "[Parallel(n_jobs=1)]: Done 400 out of 400 | elapsed:    0.1s finished\n",
      "[Parallel(n_jobs=1)]: Done 400 out of 400 | elapsed:    2.6s finished\n",
      "[Parallel(n_jobs=1)]: Done 400 out of 400 | elapsed:    0.0s finished\n",
      "[Parallel(n_jobs=1)]: Done 400 out of 400 | elapsed:    0.1s finished\n",
      "[Parallel(n_jobs=1)]: Done 400 out of 400 | elapsed:    2.4s finished\n",
      "[Parallel(n_jobs=1)]: Done 400 out of 400 | elapsed:    0.0s finished\n",
      "[Parallel(n_jobs=1)]: Done 400 out of 400 | elapsed:    0.1s finished\n",
      "[Parallel(n_jobs=1)]: Done 400 out of 400 | elapsed:    2.5s finished\n",
      "[Parallel(n_jobs=1)]: Done 400 out of 400 | elapsed:    0.0s finished\n",
      "[Parallel(n_jobs=1)]: Done 400 out of 400 | elapsed:    0.1s finished\n",
      "[Parallel(n_jobs=1)]: Done 400 out of 400 | elapsed:    3.3s finished\n"
     ]
    },
    {
     "data": {
      "text/plain": [
       "GridSearchCV(cv=StratifiedKFold(n_splits=5, random_state=None, shuffle=False),\n",
       "       error_score='raise',\n",
       "       estimator=RandomForestClassifier(bootstrap=True, class_weight=None, criterion='gini',\n",
       "            max_depth=None, max_features='auto', max_leaf_nodes=None,\n",
       "            min_impurity_split=1e-07, min_samples_leaf=1,\n",
       "            min_samples_split=2, min_weight_fraction_leaf=0.0,\n",
       "            n_estimators=10, n_jobs=1, oob_score=False, random_state=None,\n",
       "            verbose=1, warm_start=False),\n",
       "       fit_params={}, iid=True, n_jobs=1,\n",
       "       param_grid={'min_samples_split': [2], 'n_estimators': [200, 400], 'min_samples_leaf': [1]},\n",
       "       pre_dispatch='2*n_jobs', refit=True, return_train_score=True,\n",
       "       scoring='f1', verbose=0)"
      ]
     },
     "execution_count": 18,
     "metadata": {},
     "output_type": "execute_result"
    }
   ],
   "source": [
    "parameters = {\n",
    "    'n_estimators': [200,400],\n",
    "    'min_samples_leaf': [1],\n",
    "    'min_samples_split': [2]\n",
    "}\n",
    "\n",
    "clf = GridSearchCV(RFC(verbose=1,n_jobs=1), param_grid=parameters, cv=StratifiedKFold(n_splits=5), scoring='f1')\n",
    "clf.fit(X, y)"
   ]
  },
  {
   "cell_type": "code",
   "execution_count": 19,
   "metadata": {},
   "outputs": [
    {
     "name": "stdout",
     "output_type": "stream",
     "text": [
      "[0.90641130497582734, 0.91099686715146255] Mean of all scores for each cv fold\n"
     ]
    }
   ],
   "source": [
    "# create a list of the mean scores only\n",
    "grid_mean_scores = [result.mean_validation_score for result in clf.grid_scores_]\n",
    "print(grid_mean_scores,\"Mean of all scores for each cv fold\")"
   ]
  },
  {
   "cell_type": "code",
   "execution_count": 20,
   "metadata": {
    "scrolled": true
   },
   "outputs": [
    {
     "name": "stdout",
     "output_type": "stream",
     "text": [
      "0.910996867151\n",
      "{'min_samples_split': 2, 'n_estimators': 400, 'min_samples_leaf': 1}\n",
      "RandomForestClassifier(bootstrap=True, class_weight=None, criterion='gini',\n",
      "            max_depth=None, max_features='auto', max_leaf_nodes=None,\n",
      "            min_impurity_split=1e-07, min_samples_leaf=1,\n",
      "            min_samples_split=2, min_weight_fraction_leaf=0.0,\n",
      "            n_estimators=400, n_jobs=1, oob_score=False, random_state=None,\n",
      "            verbose=1, warm_start=False)\n"
     ]
    }
   ],
   "source": [
    "# examine the best model\n",
    "print(clf.best_score_)\n",
    "print(clf.best_params_)\n",
    "print(clf.best_estimator_)"
   ]
  },
  {
   "cell_type": "code",
   "execution_count": 21,
   "metadata": {},
   "outputs": [
    {
     "name": "stdout",
     "output_type": "stream",
     "text": [
      "[[ 89   0]\n",
      " [  0 454]]\n"
     ]
    },
    {
     "name": "stderr",
     "output_type": "stream",
     "text": [
      "[Parallel(n_jobs=1)]: Done 400 out of 400 | elapsed:    0.1s finished\n"
     ]
    }
   ],
   "source": [
    "y1_pred = clf.best_estimator_.predict(X)\n",
    "print(confusion_matrix(y, y1_pred))"
   ]
  },
  {
   "cell_type": "markdown",
   "metadata": {},
   "source": [
    "## Stochastic Gradient Descent Classifier (SGDC)\n"
   ]
  },
  {
   "cell_type": "code",
   "execution_count": 22,
   "metadata": {
    "collapsed": true
   },
   "outputs": [],
   "source": [
    "# Setup 5-fold stratified cross validation\n",
    "cross_v = StratifiedKFold(n_splits=5) #Takes group information into account to avoid building folds with imbalanced class distributions (for binary or multiclass classification tasks)."
   ]
  },
  {
   "cell_type": "code",
   "execution_count": 23,
   "metadata": {
    "collapsed": true
   },
   "outputs": [],
   "source": [
    "# Define a parameter grid to search over\n",
    "param_grid = {\n",
    "    'alpha': [0.0001, 0.0005, 0.001, 0.005, 0.01, 0.05, 0.1],\n",
    "    'loss': ('log', 'hinge'), #function that gives the amount of error rate\n",
    "    'penalty': ['l1', 'l2', 'elasticnet']\n",
    "    }"
   ]
  },
  {
   "cell_type": "code",
   "execution_count": 24,
   "metadata": {
    "collapsed": true
   },
   "outputs": [],
   "source": [
    "#Create SGDC classifier using logistic regression and hinge\n",
    "grid_search = GridSearchCV(SGDClassifier(), param_grid=param_grid, cv=cross_v, scoring='f1')"
   ]
  },
  {
   "cell_type": "code",
   "execution_count": 25,
   "metadata": {},
   "outputs": [
    {
     "data": {
      "text/plain": [
       "GridSearchCV(cv=StratifiedKFold(n_splits=5, random_state=None, shuffle=False),\n",
       "       error_score='raise',\n",
       "       estimator=SGDClassifier(alpha=0.0001, average=False, class_weight=None, epsilon=0.1,\n",
       "       eta0=0.0, fit_intercept=True, l1_ratio=0.15,\n",
       "       learning_rate='optimal', loss='hinge', n_iter=5, n_jobs=1,\n",
       "       penalty='l2', power_t=0.5, random_state=None, shuffle=True,\n",
       "       verbose=0, warm_start=False),\n",
       "       fit_params={}, iid=True, n_jobs=1,\n",
       "       param_grid={'penalty': ['l1', 'l2', 'elasticnet'], 'loss': ('log', 'hinge'), 'alpha': [0.0001, 0.0005, 0.001, 0.005, 0.01, 0.05, 0.1]},\n",
       "       pre_dispatch='2*n_jobs', refit=True, return_train_score=True,\n",
       "       scoring='f1', verbose=0)"
      ]
     },
     "execution_count": 25,
     "metadata": {},
     "output_type": "execute_result"
    }
   ],
   "source": [
    "#Fit model to the data\n",
    "grid_search.fit(X, y)"
   ]
  },
  {
   "cell_type": "code",
   "execution_count": 26,
   "metadata": {},
   "outputs": [
    {
     "data": {
      "text/plain": [
       "[mean: 0.88819, std: 0.02382, params: {'penalty': 'l1', 'loss': 'log', 'alpha': 0.0001},\n",
       " mean: 0.89826, std: 0.01197, params: {'penalty': 'l2', 'loss': 'log', 'alpha': 0.0001},\n",
       " mean: 0.84380, std: 0.04515, params: {'penalty': 'elasticnet', 'loss': 'log', 'alpha': 0.0001},\n",
       " mean: 0.74550, std: 0.24252, params: {'penalty': 'l1', 'loss': 'hinge', 'alpha': 0.0001},\n",
       " mean: 0.89636, std: 0.03074, params: {'penalty': 'l2', 'loss': 'hinge', 'alpha': 0.0001},\n",
       " mean: 0.89873, std: 0.01271, params: {'penalty': 'elasticnet', 'loss': 'hinge', 'alpha': 0.0001},\n",
       " mean: 0.90846, std: 0.01088, params: {'penalty': 'l1', 'loss': 'log', 'alpha': 0.0005},\n",
       " mean: 0.89948, std: 0.01293, params: {'penalty': 'l2', 'loss': 'log', 'alpha': 0.0005},\n",
       " mean: 0.91458, std: 0.00814, params: {'penalty': 'elasticnet', 'loss': 'log', 'alpha': 0.0005},\n",
       " mean: 0.89957, std: 0.01394, params: {'penalty': 'l1', 'loss': 'hinge', 'alpha': 0.0005},\n",
       " mean: 0.90161, std: 0.01222, params: {'penalty': 'l2', 'loss': 'hinge', 'alpha': 0.0005},\n",
       " mean: 0.89930, std: 0.02000, params: {'penalty': 'elasticnet', 'loss': 'hinge', 'alpha': 0.0005},\n",
       " mean: 0.90643, std: 0.01271, params: {'penalty': 'l1', 'loss': 'log', 'alpha': 0.001},\n",
       " mean: 0.91150, std: 0.00809, params: {'penalty': 'l2', 'loss': 'log', 'alpha': 0.001},\n",
       " mean: 0.91038, std: 0.00915, params: {'penalty': 'elasticnet', 'loss': 'log', 'alpha': 0.001},\n",
       " mean: 0.90935, std: 0.00735, params: {'penalty': 'l1', 'loss': 'hinge', 'alpha': 0.001},\n",
       " mean: 0.90379, std: 0.01621, params: {'penalty': 'l2', 'loss': 'hinge', 'alpha': 0.001},\n",
       " mean: 0.90756, std: 0.00765, params: {'penalty': 'elasticnet', 'loss': 'hinge', 'alpha': 0.001},\n",
       " mean: 0.91037, std: 0.00341, params: {'penalty': 'l1', 'loss': 'log', 'alpha': 0.005},\n",
       " mean: 0.91092, std: 0.00240, params: {'penalty': 'l2', 'loss': 'log', 'alpha': 0.005},\n",
       " mean: 0.91112, std: 0.00364, params: {'penalty': 'elasticnet', 'loss': 'log', 'alpha': 0.005},\n",
       " mean: 0.91073, std: 0.00148, params: {'penalty': 'l1', 'loss': 'hinge', 'alpha': 0.005},\n",
       " mean: 0.90682, std: 0.00803, params: {'penalty': 'l2', 'loss': 'hinge', 'alpha': 0.005},\n",
       " mean: 0.91056, std: 0.00113, params: {'penalty': 'elasticnet', 'loss': 'hinge', 'alpha': 0.005},\n",
       " mean: 0.90854, std: 0.00213, params: {'penalty': 'l1', 'loss': 'log', 'alpha': 0.01},\n",
       " mean: 0.91037, std: 0.00341, params: {'penalty': 'l2', 'loss': 'log', 'alpha': 0.01},\n",
       " mean: 0.91037, std: 0.00341, params: {'penalty': 'elasticnet', 'loss': 'log', 'alpha': 0.01},\n",
       " mean: 0.91073, std: 0.00148, params: {'penalty': 'l1', 'loss': 'hinge', 'alpha': 0.01},\n",
       " mean: 0.91073, std: 0.00148, params: {'penalty': 'l2', 'loss': 'hinge', 'alpha': 0.01},\n",
       " mean: 0.91073, std: 0.00148, params: {'penalty': 'elasticnet', 'loss': 'hinge', 'alpha': 0.01},\n",
       " mean: 0.91073, std: 0.00148, params: {'penalty': 'l1', 'loss': 'log', 'alpha': 0.05},\n",
       " mean: 0.90854, std: 0.00213, params: {'penalty': 'l2', 'loss': 'log', 'alpha': 0.05},\n",
       " mean: 0.91073, std: 0.00148, params: {'penalty': 'elasticnet', 'loss': 'log', 'alpha': 0.05},\n",
       " mean: 0.91073, std: 0.00148, params: {'penalty': 'l1', 'loss': 'hinge', 'alpha': 0.05},\n",
       " mean: 0.91073, std: 0.00148, params: {'penalty': 'l2', 'loss': 'hinge', 'alpha': 0.05},\n",
       " mean: 0.91073, std: 0.00148, params: {'penalty': 'elasticnet', 'loss': 'hinge', 'alpha': 0.05},\n",
       " mean: 0.91073, std: 0.00148, params: {'penalty': 'l1', 'loss': 'log', 'alpha': 0.1},\n",
       " mean: 0.90963, std: 0.00294, params: {'penalty': 'l2', 'loss': 'log', 'alpha': 0.1},\n",
       " mean: 0.91073, std: 0.00148, params: {'penalty': 'elasticnet', 'loss': 'log', 'alpha': 0.1},\n",
       " mean: 0.91073, std: 0.00148, params: {'penalty': 'l1', 'loss': 'hinge', 'alpha': 0.1},\n",
       " mean: 0.91073, std: 0.00148, params: {'penalty': 'l2', 'loss': 'hinge', 'alpha': 0.1},\n",
       " mean: 0.91073, std: 0.00148, params: {'penalty': 'elasticnet', 'loss': 'hinge', 'alpha': 0.1}]"
      ]
     },
     "execution_count": 26,
     "metadata": {},
     "output_type": "execute_result"
    }
   ],
   "source": [
    "# create a list of the mean scores only\n",
    "grid_search.grid_scores_"
   ]
  },
  {
   "cell_type": "code",
   "execution_count": 27,
   "metadata": {},
   "outputs": [
    {
     "name": "stdout",
     "output_type": "stream",
     "text": [
      "0.914582414876\n",
      "{'penalty': 'elasticnet', 'loss': 'log', 'alpha': 0.0005}\n",
      "SGDClassifier(alpha=0.0005, average=False, class_weight=None, epsilon=0.1,\n",
      "       eta0=0.0, fit_intercept=True, l1_ratio=0.15,\n",
      "       learning_rate='optimal', loss='log', n_iter=5, n_jobs=1,\n",
      "       penalty='elasticnet', power_t=0.5, random_state=None, shuffle=True,\n",
      "       verbose=0, warm_start=False)\n"
     ]
    }
   ],
   "source": [
    "# examine the best model\n",
    "print(grid_search.best_score_)\n",
    "print(grid_search.best_params_)\n",
    "print(grid_search.best_estimator_)"
   ]
  },
  {
   "cell_type": "markdown",
   "metadata": {},
   "source": [
    "## Neural Network Classifier using keras"
   ]
  },
  {
   "cell_type": "code",
   "execution_count": 28,
   "metadata": {
    "collapsed": true
   },
   "outputs": [],
   "source": [
    "from keras.models import Sequential\n",
    "from keras.layers import Dense, Activation\n",
    "from sklearn.model_selection import train_test_split\n",
    "from keras.wrappers.scikit_learn import KerasClassifier\n",
    "import keras.backend as K\n",
    "from sklearn.metrics import fbeta_score\n",
    "import numpy\n"
   ]
  },
  {
   "cell_type": "code",
   "execution_count": 29,
   "metadata": {
    "collapsed": true
   },
   "outputs": [],
   "source": [
    "#X_train, X_test, y_train, y_test = train_test_split(X, y, test_size=0.1, random_state=42)\n",
    "#X_train, X_test, y_train, y_test = numpy.asarray(X_train), numpy.asarray(X_test), numpy.asarray(y_train), numpy.asarray(y_test)"
   ]
  },
  {
   "cell_type": "code",
   "execution_count": 30,
   "metadata": {
    "collapsed": true
   },
   "outputs": [],
   "source": [
    "def precision(y_true, y_pred):\n",
    "    # Calculates the precision\n",
    "    true_positives = K.sum(K.round(K.clip(y_true * y_pred, 0, 1)))\n",
    "    predicted_positives = K.sum(K.round(K.clip(y_pred, 0, 1)))\n",
    "    precision = true_positives / (predicted_positives + K.epsilon())\n",
    "    return precision\n",
    "\n",
    "def recall(y_true, y_pred):\n",
    "    # Calculates the recall\n",
    "    true_positives = K.sum(K.round(K.clip(y_true * y_pred, 0, 1)))\n",
    "    possible_positives = K.sum(K.round(K.clip(y_true, 0, 1)))\n",
    "    recall = true_positives / (possible_positives + K.epsilon())\n",
    "    return recall\n",
    "\n",
    "def fmeasure(y_true, y_pred):\n",
    "    # Calculates the f-measure, the harmonic mean of precision and recall.\n",
    "    f = 2*(precision(y_true, y_pred)*recall(y_true, y_pred))/(precision(y_true, y_pred)+recall(y_true, y_pred))\n",
    "    #return fbeta_score(y_true, y_pred, beta=1)\n",
    "    return f"
   ]
  },
  {
   "cell_type": "code",
   "execution_count": 31,
   "metadata": {
    "collapsed": true
   },
   "outputs": [],
   "source": [
    "# Function to create model, required for KerasClassifier\n",
    "def create_model(optimizer='rmsprop', init='glorot_uniform'):\n",
    "    model = Sequential()\n",
    "    model.add(Dense(32, activation='relu', input_dim=100))\n",
    "    model.add(Dense(1, activation='sigmoid'))\n",
    "    model.compile(optimizer='rmsprop',\n",
    "              loss='binary_crossentropy',\n",
    "              metrics=['accuracy', recall, precision,fmeasure])\n",
    "    return model"
   ]
  },
  {
   "cell_type": "code",
   "execution_count": 32,
   "metadata": {
    "collapsed": true
   },
   "outputs": [],
   "source": [
    "kerasModel = KerasClassifier(build_fn=create_model, verbose=2)"
   ]
  },
  {
   "cell_type": "code",
   "execution_count": 33,
   "metadata": {
    "collapsed": true
   },
   "outputs": [],
   "source": [
    "# grid search epochs, batch size and optimizer\n",
    "optimizers = ['rmsprop', 'adam']\n",
    "init = ['glorot_uniform', 'normal', 'uniform']\n",
    "epochs = [10]\n",
    "batches = [50]\n",
    "param_grid = dict(optimizer=optimizers, epochs=epochs, batch_size=batches, init=init)"
   ]
  },
  {
   "cell_type": "code",
   "execution_count": 34,
   "metadata": {
    "collapsed": true
   },
   "outputs": [],
   "source": [
    "Kgrid = GridSearchCV(estimator=kerasModel, param_grid=param_grid,cv=5,scoring='f1')"
   ]
  },
  {
   "cell_type": "code",
   "execution_count": 35,
   "metadata": {},
   "outputs": [
    {
     "name": "stdout",
     "output_type": "stream",
     "text": [
      "Epoch 1/10\n",
      "1s - loss: 0.6185 - acc: 0.8825 - recall: 0.9562 - precision: 0.9214 - fmeasure: 0.9360\n",
      "Epoch 2/10\n",
      "0s - loss: 0.5364 - acc: 0.9194 - recall: 0.9975 - precision: 0.9215 - fmeasure: 0.9577\n",
      "Epoch 3/10\n",
      "0s - loss: 0.4783 - acc: 0.9217 - recall: 1.0000 - precision: 0.9217 - fmeasure: 0.9588\n",
      "Epoch 4/10\n",
      "0s - loss: 0.4342 - acc: 0.9217 - recall: 1.0000 - precision: 0.9217 - fmeasure: 0.9586\n",
      "Epoch 5/10\n",
      "0s - loss: 0.3995 - acc: 0.9217 - recall: 1.0000 - precision: 0.9217 - fmeasure: 0.9590\n",
      "Epoch 6/10\n",
      "0s - loss: 0.3722 - acc: 0.9217 - recall: 1.0000 - precision: 0.9217 - fmeasure: 0.9590\n",
      "Epoch 7/10\n",
      "0s - loss: 0.3513 - acc: 0.9217 - recall: 1.0000 - precision: 0.9217 - fmeasure: 0.9589\n",
      "Epoch 8/10\n",
      "0s - loss: 0.3353 - acc: 0.9217 - recall: 1.0000 - precision: 0.9217 - fmeasure: 0.9583\n",
      "Epoch 9/10\n",
      "0s - loss: 0.3228 - acc: 0.9217 - recall: 1.0000 - precision: 0.9217 - fmeasure: 0.9591\n",
      "Epoch 10/10\n",
      "0s - loss: 0.3134 - acc: 0.9217 - recall: 1.0000 - precision: 0.9217 - fmeasure: 0.9591\n",
      "Epoch 1/10\n",
      "1s - loss: 0.6932 - acc: 0.5576 - recall: 0.5791 - precision: 0.8559 - fmeasure: 0.5920\n",
      "Epoch 2/10\n",
      "0s - loss: 0.6165 - acc: 0.7880 - recall: 0.9911 - precision: 0.7934 - fmeasure: 0.8811\n",
      "Epoch 3/10\n",
      "0s - loss: 0.5749 - acc: 0.7903 - recall: 0.9944 - precision: 0.7941 - fmeasure: 0.8814\n",
      "Epoch 4/10\n",
      "0s - loss: 0.5493 - acc: 0.7903 - recall: 0.9948 - precision: 0.7944 - fmeasure: 0.8818\n",
      "Epoch 5/10\n",
      "0s - loss: 0.5314 - acc: 0.7926 - recall: 0.9971 - precision: 0.7945 - fmeasure: 0.8833\n",
      "Epoch 6/10\n",
      "0s - loss: 0.5183 - acc: 0.7949 - recall: 1.0000 - precision: 0.7949 - fmeasure: 0.8837\n",
      "Epoch 7/10\n",
      "0s - loss: 0.5079 - acc: 0.7949 - recall: 1.0000 - precision: 0.7949 - fmeasure: 0.8854\n",
      "Epoch 8/10\n",
      "0s - loss: 0.5000 - acc: 0.7949 - recall: 1.0000 - precision: 0.7949 - fmeasure: 0.8841\n",
      "Epoch 9/10\n",
      "0s - loss: 0.4938 - acc: 0.7949 - recall: 0.9966 - precision: 0.7960 - fmeasure: 0.8831\n",
      "Epoch 10/10\n",
      "0s - loss: 0.4876 - acc: 0.7926 - recall: 0.9944 - precision: 0.7960 - fmeasure: 0.8836\n",
      "Epoch 1/10\n",
      "0s - loss: 0.6282 - acc: 0.7765 - recall: 0.9514 - precision: 0.8070 - fmeasure: 0.8723\n",
      "Epoch 2/10\n",
      "0s - loss: 0.5637 - acc: 0.8088 - recall: 1.0000 - precision: 0.8088 - fmeasure: 0.8940\n",
      "Epoch 3/10\n",
      "0s - loss: 0.5321 - acc: 0.8088 - recall: 1.0000 - precision: 0.8088 - fmeasure: 0.8927\n",
      "Epoch 4/10\n",
      "0s - loss: 0.5109 - acc: 0.8088 - recall: 1.0000 - precision: 0.8088 - fmeasure: 0.8931\n",
      "Epoch 5/10\n",
      "0s - loss: 0.4948 - acc: 0.8088 - recall: 1.0000 - precision: 0.8088 - fmeasure: 0.8934\n",
      "Epoch 6/10\n",
      "0s - loss: 0.4825 - acc: 0.8088 - recall: 0.9971 - precision: 0.8103 - fmeasure: 0.8935\n",
      "Epoch 7/10\n",
      "0s - loss: 0.4717 - acc: 0.8157 - recall: 0.9972 - precision: 0.8159 - fmeasure: 0.8971\n",
      "Epoch 8/10\n",
      "0s - loss: 0.4629 - acc: 0.8157 - recall: 0.9941 - precision: 0.8174 - fmeasure: 0.8961\n",
      "Epoch 9/10\n",
      "0s - loss: 0.4550 - acc: 0.8157 - recall: 0.9939 - precision: 0.8173 - fmeasure: 0.8963\n",
      "Epoch 10/10\n",
      "0s - loss: 0.4489 - acc: 0.8203 - recall: 0.9913 - precision: 0.8232 - fmeasure: 0.8982\n",
      "Epoch 1/10\n",
      "0s - loss: 0.6051 - acc: 0.8184 - recall: 0.9887 - precision: 0.8258 - fmeasure: 0.8991\n",
      "Epoch 2/10\n",
      "0s - loss: 0.5473 - acc: 0.8276 - recall: 1.0000 - precision: 0.8276 - fmeasure: 0.9053\n",
      "Epoch 3/10\n",
      "0s - loss: 0.5168 - acc: 0.8276 - recall: 1.0000 - precision: 0.8276 - fmeasure: 0.9053\n",
      "Epoch 4/10\n",
      "0s - loss: 0.4963 - acc: 0.8276 - recall: 1.0000 - precision: 0.8276 - fmeasure: 0.9050\n",
      "Epoch 5/10\n",
      "0s - loss: 0.4817 - acc: 0.8276 - recall: 1.0000 - precision: 0.8276 - fmeasure: 0.9048\n",
      "Epoch 6/10\n",
      "0s - loss: 0.4714 - acc: 0.8276 - recall: 1.0000 - precision: 0.8276 - fmeasure: 0.9048\n",
      "Epoch 7/10\n",
      "0s - loss: 0.4642 - acc: 0.8276 - recall: 1.0000 - precision: 0.8276 - fmeasure: 0.9045\n",
      "Epoch 8/10\n",
      "0s - loss: 0.4564 - acc: 0.8230 - recall: 0.9941 - precision: 0.8266 - fmeasure: 0.9024\n",
      "Epoch 9/10\n",
      "0s - loss: 0.4505 - acc: 0.8276 - recall: 1.0000 - precision: 0.8276 - fmeasure: 0.9050\n",
      "Epoch 10/10\n",
      "0s - loss: 0.4457 - acc: 0.8276 - recall: 0.9944 - precision: 0.8307 - fmeasure: 0.9040\n",
      "Epoch 1/10\n",
      "1s - loss: 0.5784 - acc: 0.8230 - recall: 0.9945 - precision: 0.8268 - fmeasure: 0.9020\n",
      "Epoch 2/10\n",
      "0s - loss: 0.5164 - acc: 0.8276 - recall: 1.0000 - precision: 0.8276 - fmeasure: 0.9051\n",
      "Epoch 3/10\n",
      "0s - loss: 0.4897 - acc: 0.8276 - recall: 1.0000 - precision: 0.8276 - fmeasure: 0.9039\n",
      "Epoch 4/10\n",
      "0s - loss: 0.4717 - acc: 0.8276 - recall: 1.0000 - precision: 0.8276 - fmeasure: 0.9052\n",
      "Epoch 5/10\n",
      "0s - loss: 0.4607 - acc: 0.8276 - recall: 0.9973 - precision: 0.8290 - fmeasure: 0.9044\n",
      "Epoch 6/10\n",
      "0s - loss: 0.4513 - acc: 0.8276 - recall: 0.9974 - precision: 0.8294 - fmeasure: 0.9042\n",
      "Epoch 7/10\n",
      "0s - loss: 0.4428 - acc: 0.8299 - recall: 0.9942 - precision: 0.8323 - fmeasure: 0.9055\n",
      "Epoch 8/10\n",
      "0s - loss: 0.4366 - acc: 0.8322 - recall: 0.9941 - precision: 0.8345 - fmeasure: 0.9064\n",
      "Epoch 9/10\n",
      "0s - loss: 0.4318 - acc: 0.8299 - recall: 0.9924 - precision: 0.8345 - fmeasure: 0.9053\n",
      "Epoch 10/10\n",
      "0s - loss: 0.4270 - acc: 0.8322 - recall: 0.9947 - precision: 0.8346 - fmeasure: 0.9070\n",
      "Epoch 1/10\n",
      "1s - loss: 0.6340 - acc: 0.7673 - recall: 0.8186 - precision: 0.9252 - fmeasure: 0.8533\n",
      "Epoch 2/10\n",
      "0s - loss: 0.5405 - acc: 0.9147 - recall: 0.9900 - precision: 0.9229 - fmeasure: 0.9549\n",
      "Epoch 3/10\n",
      "0s - loss: 0.4782 - acc: 0.9194 - recall: 0.9949 - precision: 0.9233 - fmeasure: 0.9575\n",
      "Epoch 4/10\n",
      "0s - loss: 0.4284 - acc: 0.9194 - recall: 0.9973 - precision: 0.9213 - fmeasure: 0.9575\n",
      "Epoch 5/10\n",
      "0s - loss: 0.3909 - acc: 0.9194 - recall: 0.9974 - precision: 0.9214 - fmeasure: 0.9578\n",
      "Epoch 6/10\n",
      "0s - loss: 0.3634 - acc: 0.9217 - recall: 1.0000 - precision: 0.9217 - fmeasure: 0.9583\n",
      "Epoch 7/10\n",
      "0s - loss: 0.3432 - acc: 0.9217 - recall: 1.0000 - precision: 0.9217 - fmeasure: 0.9590\n",
      "Epoch 8/10\n",
      "0s - loss: 0.3272 - acc: 0.9217 - recall: 1.0000 - precision: 0.9217 - fmeasure: 0.9590\n",
      "Epoch 9/10\n",
      "0s - loss: 0.3162 - acc: 0.9217 - recall: 1.0000 - precision: 0.9217 - fmeasure: 0.9583\n",
      "Epoch 10/10\n",
      "0s - loss: 0.3071 - acc: 0.9217 - recall: 1.0000 - precision: 0.9217 - fmeasure: 0.9591\n",
      "Epoch 1/10\n",
      "1s - loss: 0.6045 - acc: 0.7926 - recall: 0.9973 - precision: 0.7946 - fmeasure: 0.8837\n",
      "Epoch 2/10\n",
      "0s - loss: 0.5584 - acc: 0.7949 - recall: 1.0000 - precision: 0.7949 - fmeasure: 0.8838\n",
      "Epoch 3/10\n",
      "0s - loss: 0.5341 - acc: 0.7949 - recall: 1.0000 - precision: 0.7949 - fmeasure: 0.8845\n",
      "Epoch 4/10\n",
      "0s - loss: 0.5174 - acc: 0.7949 - recall: 1.0000 - precision: 0.7949 - fmeasure: 0.8844\n",
      "Epoch 5/10\n",
      "0s - loss: 0.5048 - acc: 0.7949 - recall: 1.0000 - precision: 0.7949 - fmeasure: 0.8853\n",
      "Epoch 6/10\n",
      "0s - loss: 0.4956 - acc: 0.7949 - recall: 1.0000 - precision: 0.7949 - fmeasure: 0.8848\n",
      "Epoch 7/10\n",
      "0s - loss: 0.4881 - acc: 0.7926 - recall: 0.9939 - precision: 0.7955 - fmeasure: 0.8827\n",
      "Epoch 8/10\n",
      "0s - loss: 0.4821 - acc: 0.7949 - recall: 0.9936 - precision: 0.7972 - fmeasure: 0.8832\n",
      "Epoch 9/10\n",
      "0s - loss: 0.4774 - acc: 0.7972 - recall: 0.9941 - precision: 0.7993 - fmeasure: 0.8854\n",
      "Epoch 10/10\n",
      "0s - loss: 0.4722 - acc: 0.7972 - recall: 0.9916 - precision: 0.8013 - fmeasure: 0.8856\n",
      "Epoch 1/10\n",
      "1s - loss: 0.6282 - acc: 0.7788 - recall: 0.9591 - precision: 0.8070 - fmeasure: 0.8731\n",
      "Epoch 2/10\n",
      "0s - loss: 0.5624 - acc: 0.8088 - recall: 1.0000 - precision: 0.8088 - fmeasure: 0.8937\n",
      "Epoch 3/10\n",
      "0s - loss: 0.5293 - acc: 0.8065 - recall: 0.9970 - precision: 0.8082 - fmeasure: 0.8921\n",
      "Epoch 4/10\n",
      "0s - loss: 0.5078 - acc: 0.8088 - recall: 0.9974 - precision: 0.8104 - fmeasure: 0.8929\n",
      "Epoch 5/10\n",
      "0s - loss: 0.4929 - acc: 0.8065 - recall: 0.9970 - precision: 0.8082 - fmeasure: 0.8919\n",
      "Epoch 6/10\n",
      "0s - loss: 0.4816 - acc: 0.8111 - recall: 0.9973 - precision: 0.8120 - fmeasure: 0.8941\n",
      "Epoch 7/10\n",
      "0s - loss: 0.4714 - acc: 0.8134 - recall: 0.9943 - precision: 0.8154 - fmeasure: 0.8953\n",
      "Epoch 8/10\n",
      "0s - loss: 0.4656 - acc: 0.8134 - recall: 0.9941 - precision: 0.8153 - fmeasure: 0.8941\n",
      "Epoch 9/10\n",
      "0s - loss: 0.4581 - acc: 0.8134 - recall: 0.9915 - precision: 0.8168 - fmeasure: 0.8952\n",
      "Epoch 10/10\n",
      "0s - loss: 0.4537 - acc: 0.8157 - recall: 0.9944 - precision: 0.8176 - fmeasure: 0.8969\n",
      "Epoch 1/10\n",
      "1s - loss: 0.6798 - acc: 0.6276 - recall: 0.7073 - precision: 0.7450 - fmeasure: nan\n",
      "Epoch 2/10\n",
      "0s - loss: 0.5970 - acc: 0.8230 - recall: 0.9944 - precision: 0.8267 - fmeasure: 0.9022\n",
      "Epoch 3/10\n",
      "0s - loss: 0.5516 - acc: 0.8276 - recall: 1.0000 - precision: 0.8276 - fmeasure: 0.9052\n",
      "Epoch 4/10\n",
      "0s - loss: 0.5236 - acc: 0.8276 - recall: 1.0000 - precision: 0.8276 - fmeasure: 0.9047\n",
      "Epoch 5/10\n",
      "0s - loss: 0.5037 - acc: 0.8276 - recall: 1.0000 - precision: 0.8276 - fmeasure: 0.9051\n",
      "Epoch 6/10\n",
      "0s - loss: 0.4886 - acc: 0.8276 - recall: 1.0000 - precision: 0.8276 - fmeasure: 0.9047\n",
      "Epoch 7/10\n"
     ]
    },
    {
     "name": "stdout",
     "output_type": "stream",
     "text": [
      "0s - loss: 0.4765 - acc: 0.8276 - recall: 1.0000 - precision: 0.8276 - fmeasure: 0.9042\n",
      "Epoch 8/10\n",
      "0s - loss: 0.4684 - acc: 0.8230 - recall: 0.9947 - precision: 0.8270 - fmeasure: 0.9021\n",
      "Epoch 9/10\n",
      "0s - loss: 0.4606 - acc: 0.8253 - recall: 0.9973 - precision: 0.8273 - fmeasure: 0.9038\n",
      "Epoch 10/10\n",
      "0s - loss: 0.4540 - acc: 0.8276 - recall: 0.9941 - precision: 0.8301 - fmeasure: 0.9038\n",
      "Epoch 1/10\n",
      "1s - loss: 0.6575 - acc: 0.6966 - recall: 0.7774 - precision: 0.8554 - fmeasure: 0.7636\n",
      "Epoch 2/10\n",
      "0s - loss: 0.5843 - acc: 0.8207 - recall: 0.9860 - precision: 0.8292 - fmeasure: 0.9001\n",
      "Epoch 3/10\n",
      "0s - loss: 0.5439 - acc: 0.8184 - recall: 0.9892 - precision: 0.8262 - fmeasure: 0.8994\n",
      "Epoch 4/10\n",
      "0s - loss: 0.5176 - acc: 0.8230 - recall: 0.9947 - precision: 0.8269 - fmeasure: 0.9020\n",
      "Epoch 5/10\n",
      "0s - loss: 0.4997 - acc: 0.8230 - recall: 0.9947 - precision: 0.8269 - fmeasure: 0.9020\n",
      "Epoch 6/10\n",
      "0s - loss: 0.4858 - acc: 0.8276 - recall: 1.0000 - precision: 0.8276 - fmeasure: 0.9052\n",
      "Epoch 7/10\n",
      "0s - loss: 0.4758 - acc: 0.8276 - recall: 0.9973 - precision: 0.8291 - fmeasure: 0.9044\n",
      "Epoch 8/10\n",
      "0s - loss: 0.4673 - acc: 0.8276 - recall: 0.9971 - precision: 0.8290 - fmeasure: 0.9042\n",
      "Epoch 9/10\n",
      "0s - loss: 0.4605 - acc: 0.8322 - recall: 0.9967 - precision: 0.8324 - fmeasure: 0.9061\n",
      "Epoch 10/10\n",
      "0s - loss: 0.4544 - acc: 0.8345 - recall: 0.9919 - precision: 0.8386 - fmeasure: 0.9080\n",
      "Epoch 1/10\n",
      "1s - loss: 0.6014 - acc: 0.8894 - recall: 0.9620 - precision: 0.9205 - fmeasure: 0.9396\n",
      "Epoch 2/10\n",
      "0s - loss: 0.5067 - acc: 0.9171 - recall: 0.9949 - precision: 0.9212 - fmeasure: 0.9564\n",
      "Epoch 3/10\n",
      "0s - loss: 0.4511 - acc: 0.9194 - recall: 0.9976 - precision: 0.9216 - fmeasure: 0.9575\n",
      "Epoch 4/10\n",
      "0s - loss: 0.4103 - acc: 0.9217 - recall: 1.0000 - precision: 0.9217 - fmeasure: 0.9588\n",
      "Epoch 5/10\n",
      "0s - loss: 0.3784 - acc: 0.9217 - recall: 1.0000 - precision: 0.9217 - fmeasure: 0.9589\n",
      "Epoch 6/10\n",
      "0s - loss: 0.3543 - acc: 0.9217 - recall: 1.0000 - precision: 0.9217 - fmeasure: 0.9588\n",
      "Epoch 7/10\n",
      "0s - loss: 0.3369 - acc: 0.9217 - recall: 1.0000 - precision: 0.9217 - fmeasure: 0.9590\n",
      "Epoch 8/10\n",
      "0s - loss: 0.3237 - acc: 0.9217 - recall: 1.0000 - precision: 0.9217 - fmeasure: 0.9588\n",
      "Epoch 9/10\n",
      "0s - loss: 0.3136 - acc: 0.9217 - recall: 1.0000 - precision: 0.9217 - fmeasure: 0.9590\n",
      "Epoch 10/10\n",
      "0s - loss: 0.3061 - acc: 0.9217 - recall: 1.0000 - precision: 0.9217 - fmeasure: 0.9585\n",
      "Epoch 1/10\n",
      "1s - loss: 0.6494 - acc: 0.7396 - recall: 0.9095 - precision: 0.7867 - fmeasure: 0.8349\n",
      "Epoch 2/10\n",
      "0s - loss: 0.5828 - acc: 0.7949 - recall: 1.0000 - precision: 0.7949 - fmeasure: 0.8848\n",
      "Epoch 3/10\n",
      "0s - loss: 0.5486 - acc: 0.7949 - recall: 1.0000 - precision: 0.7949 - fmeasure: 0.8848\n",
      "Epoch 4/10\n",
      "0s - loss: 0.5275 - acc: 0.7949 - recall: 1.0000 - precision: 0.7949 - fmeasure: 0.8854\n",
      "Epoch 5/10\n",
      "0s - loss: 0.5123 - acc: 0.7926 - recall: 0.9973 - precision: 0.7946 - fmeasure: 0.8828\n",
      "Epoch 6/10\n",
      "0s - loss: 0.5014 - acc: 0.7949 - recall: 1.0000 - precision: 0.7949 - fmeasure: 0.8849\n",
      "Epoch 7/10\n",
      "0s - loss: 0.4932 - acc: 0.7903 - recall: 0.9943 - precision: 0.7940 - fmeasure: 0.8820\n",
      "Epoch 8/10\n",
      "0s - loss: 0.4857 - acc: 0.7903 - recall: 0.9943 - precision: 0.7941 - fmeasure: 0.8820\n",
      "Epoch 9/10\n",
      "0s - loss: 0.4799 - acc: 0.7949 - recall: 0.9942 - precision: 0.7977 - fmeasure: 0.8845\n",
      "Epoch 10/10\n",
      "0s - loss: 0.4747 - acc: 0.7949 - recall: 0.9942 - precision: 0.7975 - fmeasure: 0.8840\n",
      "Epoch 1/10\n",
      "1s - loss: 0.6081 - acc: 0.7880 - recall: 0.9720 - precision: 0.8029 - fmeasure: 0.8787\n",
      "Epoch 2/10\n",
      "0s - loss: 0.5490 - acc: 0.8088 - recall: 1.0000 - precision: 0.8088 - fmeasure: 0.8936\n",
      "Epoch 3/10\n",
      "0s - loss: 0.5228 - acc: 0.8088 - recall: 1.0000 - precision: 0.8088 - fmeasure: 0.8934\n",
      "Epoch 4/10\n",
      "0s - loss: 0.5044 - acc: 0.8111 - recall: 1.0000 - precision: 0.8106 - fmeasure: 0.8950\n",
      "Epoch 5/10\n",
      "0s - loss: 0.4912 - acc: 0.8111 - recall: 0.9969 - precision: 0.8116 - fmeasure: 0.8936\n",
      "Epoch 6/10\n",
      "0s - loss: 0.4802 - acc: 0.8180 - recall: 0.9941 - precision: 0.8193 - fmeasure: 0.8975\n",
      "Epoch 7/10\n",
      "0s - loss: 0.4718 - acc: 0.8203 - recall: 0.9973 - precision: 0.8201 - fmeasure: 0.8988\n",
      "Epoch 8/10\n",
      "0s - loss: 0.4640 - acc: 0.8180 - recall: 0.9943 - precision: 0.8194 - fmeasure: 0.8975\n",
      "Epoch 9/10\n",
      "0s - loss: 0.4578 - acc: 0.8180 - recall: 0.9939 - precision: 0.8191 - fmeasure: 0.8973\n",
      "Epoch 10/10\n",
      "0s - loss: 0.4522 - acc: 0.8203 - recall: 0.9888 - precision: 0.8243 - fmeasure: 0.8986\n",
      "Epoch 1/10\n",
      "1s - loss: 0.6228 - acc: 0.8092 - recall: 0.9722 - precision: 0.8276 - fmeasure: 0.8923\n",
      "Epoch 2/10\n",
      "0s - loss: 0.5608 - acc: 0.8276 - recall: 1.0000 - precision: 0.8276 - fmeasure: 0.9054\n",
      "Epoch 3/10\n",
      "0s - loss: 0.5227 - acc: 0.8276 - recall: 1.0000 - precision: 0.8276 - fmeasure: 0.9041\n",
      "Epoch 4/10\n",
      "0s - loss: 0.4953 - acc: 0.8276 - recall: 1.0000 - precision: 0.8276 - fmeasure: 0.9052\n",
      "Epoch 5/10\n",
      "0s - loss: 0.4800 - acc: 0.8276 - recall: 1.0000 - precision: 0.8276 - fmeasure: 0.9040\n",
      "Epoch 6/10\n",
      "0s - loss: 0.4691 - acc: 0.8276 - recall: 1.0000 - precision: 0.8276 - fmeasure: 0.9050\n",
      "Epoch 7/10\n",
      "0s - loss: 0.4605 - acc: 0.8253 - recall: 0.9971 - precision: 0.8271 - fmeasure: 0.9035\n",
      "Epoch 8/10\n",
      "0s - loss: 0.4529 - acc: 0.8253 - recall: 0.9972 - precision: 0.8272 - fmeasure: 0.9040\n",
      "Epoch 9/10\n",
      "0s - loss: 0.4463 - acc: 0.8276 - recall: 0.9973 - precision: 0.8289 - fmeasure: 0.9046\n",
      "Epoch 10/10\n",
      "0s - loss: 0.4423 - acc: 0.8230 - recall: 0.9949 - precision: 0.8271 - fmeasure: 0.9013\n",
      "Epoch 1/10\n",
      "1s - loss: 0.6387 - acc: 0.7770 - recall: 0.9054 - precision: 0.8411 - fmeasure: 0.8567\n",
      "Epoch 2/10\n",
      "0s - loss: 0.5678 - acc: 0.8276 - recall: 1.0000 - precision: 0.8276 - fmeasure: 0.9042\n",
      "Epoch 3/10\n",
      "0s - loss: 0.5268 - acc: 0.8276 - recall: 1.0000 - precision: 0.8276 - fmeasure: 0.9047\n",
      "Epoch 4/10\n",
      "0s - loss: 0.4984 - acc: 0.8276 - recall: 1.0000 - precision: 0.8276 - fmeasure: 0.9045\n",
      "Epoch 5/10\n",
      "0s - loss: 0.4794 - acc: 0.8276 - recall: 1.0000 - precision: 0.8276 - fmeasure: 0.9049\n",
      "Epoch 6/10\n",
      "0s - loss: 0.4660 - acc: 0.8276 - recall: 1.0000 - precision: 0.8276 - fmeasure: 0.9043\n",
      "Epoch 7/10\n",
      "0s - loss: 0.4564 - acc: 0.8276 - recall: 0.9973 - precision: 0.8291 - fmeasure: 0.9049\n",
      "Epoch 8/10\n",
      "0s - loss: 0.4501 - acc: 0.8299 - recall: 0.9973 - precision: 0.8313 - fmeasure: 0.9055\n",
      "Epoch 9/10\n",
      "0s - loss: 0.4433 - acc: 0.8322 - recall: 0.9944 - precision: 0.8340 - fmeasure: 0.9063\n",
      "Epoch 10/10\n",
      "0s - loss: 0.4382 - acc: 0.8368 - recall: 0.9971 - precision: 0.8369 - fmeasure: 0.9097\n",
      "Epoch 1/10\n",
      "1s - loss: 0.6171 - acc: 0.8180 - recall: 0.8799 - precision: 0.9269 - fmeasure: 0.8847\n",
      "Epoch 2/10\n",
      "0s - loss: 0.5160 - acc: 0.9171 - recall: 0.9950 - precision: 0.9213 - fmeasure: 0.9562\n",
      "Epoch 3/10\n",
      "0s - loss: 0.4582 - acc: 0.9194 - recall: 0.9976 - precision: 0.9216 - fmeasure: 0.9575\n",
      "Epoch 4/10\n",
      "0s - loss: 0.4157 - acc: 0.9217 - recall: 1.0000 - precision: 0.9217 - fmeasure: 0.9587\n",
      "Epoch 5/10\n",
      "0s - loss: 0.3821 - acc: 0.9217 - recall: 1.0000 - precision: 0.9217 - fmeasure: 0.9588\n",
      "Epoch 6/10\n",
      "0s - loss: 0.3577 - acc: 0.9217 - recall: 1.0000 - precision: 0.9217 - fmeasure: 0.9590\n",
      "Epoch 7/10\n",
      "0s - loss: 0.3399 - acc: 0.9217 - recall: 1.0000 - precision: 0.9217 - fmeasure: 0.9590\n",
      "Epoch 8/10\n",
      "0s - loss: 0.3269 - acc: 0.9217 - recall: 1.0000 - precision: 0.9217 - fmeasure: 0.9589\n",
      "Epoch 9/10\n",
      "0s - loss: 0.3162 - acc: 0.9217 - recall: 1.0000 - precision: 0.9217 - fmeasure: 0.9590\n",
      "Epoch 10/10\n",
      "0s - loss: 0.3082 - acc: 0.9217 - recall: 1.0000 - precision: 0.9217 - fmeasure: 0.9589\n",
      "Epoch 1/10\n",
      "1s - loss: 0.6333 - acc: 0.7627 - recall: 0.9516 - precision: 0.7928 - fmeasure: 0.8628\n",
      "Epoch 2/10\n",
      "0s - loss: 0.5847 - acc: 0.7811 - recall: 0.9830 - precision: 0.7922 - fmeasure: 0.8752\n",
      "Epoch 3/10\n",
      "0s - loss: 0.5578 - acc: 0.7880 - recall: 0.9905 - precision: 0.7930 - fmeasure: 0.8800\n",
      "Epoch 4/10\n",
      "0s - loss: 0.5402 - acc: 0.7926 - recall: 0.9968 - precision: 0.7943 - fmeasure: 0.8835\n",
      "Epoch 5/10\n",
      "0s - loss: 0.5260 - acc: 0.7926 - recall: 0.9970 - precision: 0.7944 - fmeasure: 0.8836\n",
      "Epoch 6/10\n",
      "0s - loss: 0.5148 - acc: 0.7926 - recall: 0.9972 - precision: 0.7945 - fmeasure: 0.8837\n",
      "Epoch 7/10\n",
      "0s - loss: 0.5052 - acc: 0.7949 - recall: 0.9970 - precision: 0.7964 - fmeasure: 0.8851\n",
      "Epoch 8/10\n",
      "0s - loss: 0.4978 - acc: 0.7972 - recall: 1.0000 - precision: 0.7968 - fmeasure: 0.8862\n",
      "Epoch 9/10\n",
      "0s - loss: 0.4915 - acc: 0.7972 - recall: 0.9942 - precision: 0.7994 - fmeasure: 0.8848\n",
      "Epoch 10/10\n",
      "0s - loss: 0.4859 - acc: 0.7995 - recall: 0.9943 - precision: 0.8015 - fmeasure: 0.8871\n"
     ]
    },
    {
     "name": "stdout",
     "output_type": "stream",
     "text": [
      "Epoch 1/10\n",
      "1s - loss: 0.6279 - acc: 0.7696 - recall: 0.9510 - precision: 0.8039 - fmeasure: 0.8682\n",
      "Epoch 2/10\n",
      "0s - loss: 0.5697 - acc: 0.8065 - recall: 0.9974 - precision: 0.8085 - fmeasure: 0.8910\n",
      "Epoch 3/10\n",
      "0s - loss: 0.5406 - acc: 0.8088 - recall: 1.0000 - precision: 0.8088 - fmeasure: 0.8940\n",
      "Epoch 4/10\n",
      "0s - loss: 0.5220 - acc: 0.8088 - recall: 1.0000 - precision: 0.8088 - fmeasure: 0.8926\n",
      "Epoch 5/10\n",
      "0s - loss: 0.5080 - acc: 0.8065 - recall: 0.9973 - precision: 0.8084 - fmeasure: 0.8917\n",
      "Epoch 6/10\n",
      "0s - loss: 0.4946 - acc: 0.8134 - recall: 0.9970 - precision: 0.8140 - fmeasure: 0.8957\n",
      "Epoch 7/10\n",
      "0s - loss: 0.4841 - acc: 0.8157 - recall: 0.9970 - precision: 0.8159 - fmeasure: 0.8967\n",
      "Epoch 8/10\n",
      "0s - loss: 0.4749 - acc: 0.8180 - recall: 0.9942 - precision: 0.8193 - fmeasure: 0.8979\n",
      "Epoch 9/10\n",
      "0s - loss: 0.4679 - acc: 0.8157 - recall: 0.9946 - precision: 0.8179 - fmeasure: 0.8962\n",
      "Epoch 10/10\n",
      "0s - loss: 0.4614 - acc: 0.8157 - recall: 0.9912 - precision: 0.8192 - fmeasure: 0.8958\n",
      "Epoch 1/10\n",
      "1s - loss: 0.6567 - acc: 0.6943 - recall: 0.8386 - precision: 0.8164 - fmeasure: 0.8050\n",
      "Epoch 2/10\n",
      "0s - loss: 0.5897 - acc: 0.8230 - recall: 0.9945 - precision: 0.8268 - fmeasure: 0.9022\n",
      "Epoch 3/10\n",
      "0s - loss: 0.5536 - acc: 0.8276 - recall: 1.0000 - precision: 0.8276 - fmeasure: 0.9049\n",
      "Epoch 4/10\n",
      "0s - loss: 0.5288 - acc: 0.8276 - recall: 1.0000 - precision: 0.8276 - fmeasure: 0.9036\n",
      "Epoch 5/10\n",
      "0s - loss: 0.5107 - acc: 0.8276 - recall: 1.0000 - precision: 0.8276 - fmeasure: 0.9047\n",
      "Epoch 6/10\n",
      "0s - loss: 0.4965 - acc: 0.8276 - recall: 1.0000 - precision: 0.8276 - fmeasure: 0.9047\n",
      "Epoch 7/10\n",
      "0s - loss: 0.4847 - acc: 0.8276 - recall: 1.0000 - precision: 0.8276 - fmeasure: 0.9051\n",
      "Epoch 8/10\n",
      "0s - loss: 0.4744 - acc: 0.8253 - recall: 0.9973 - precision: 0.8273 - fmeasure: 0.9040\n",
      "Epoch 9/10\n",
      "0s - loss: 0.4663 - acc: 0.8253 - recall: 0.9974 - precision: 0.8274 - fmeasure: 0.9036\n",
      "Epoch 10/10\n",
      "0s - loss: 0.4584 - acc: 0.8253 - recall: 0.9944 - precision: 0.8288 - fmeasure: 0.9038\n",
      "Epoch 1/10\n",
      "1s - loss: 0.6296 - acc: 0.7609 - recall: 0.8991 - precision: 0.8192 - fmeasure: 0.8519\n",
      "Epoch 2/10\n",
      "0s - loss: 0.5623 - acc: 0.8276 - recall: 0.9973 - precision: 0.8292 - fmeasure: 0.9052\n",
      "Epoch 3/10\n",
      "0s - loss: 0.5285 - acc: 0.8276 - recall: 1.0000 - precision: 0.8276 - fmeasure: 0.9046\n",
      "Epoch 4/10\n",
      "0s - loss: 0.5041 - acc: 0.8276 - recall: 1.0000 - precision: 0.8276 - fmeasure: 0.9055\n",
      "Epoch 5/10\n",
      "0s - loss: 0.4882 - acc: 0.8276 - recall: 1.0000 - precision: 0.8276 - fmeasure: 0.9039\n",
      "Epoch 6/10\n",
      "0s - loss: 0.4753 - acc: 0.8253 - recall: 0.9973 - precision: 0.8272 - fmeasure: 0.9038\n",
      "Epoch 7/10\n",
      "0s - loss: 0.4646 - acc: 0.8276 - recall: 0.9972 - precision: 0.8291 - fmeasure: 0.9050\n",
      "Epoch 8/10\n",
      "0s - loss: 0.4568 - acc: 0.8299 - recall: 0.9972 - precision: 0.8310 - fmeasure: 0.9057\n",
      "Epoch 9/10\n",
      "0s - loss: 0.4484 - acc: 0.8345 - recall: 0.9973 - precision: 0.8352 - fmeasure: 0.9082\n",
      "Epoch 10/10\n",
      "0s - loss: 0.4426 - acc: 0.8322 - recall: 0.9974 - precision: 0.8329 - fmeasure: 0.9072\n",
      "Epoch 1/10\n",
      "1s - loss: 0.5935 - acc: 0.9055 - recall: 0.9798 - precision: 0.9223 - fmeasure: 0.9498\n",
      "Epoch 2/10\n",
      "0s - loss: 0.4956 - acc: 0.9217 - recall: 1.0000 - precision: 0.9217 - fmeasure: 0.9591\n",
      "Epoch 3/10\n",
      "0s - loss: 0.4291 - acc: 0.9217 - recall: 1.0000 - precision: 0.9217 - fmeasure: 0.9589\n",
      "Epoch 4/10\n",
      "0s - loss: 0.3816 - acc: 0.9217 - recall: 1.0000 - precision: 0.9217 - fmeasure: 0.9590\n",
      "Epoch 5/10\n",
      "0s - loss: 0.3509 - acc: 0.9217 - recall: 1.0000 - precision: 0.9217 - fmeasure: 0.9588\n",
      "Epoch 6/10\n",
      "0s - loss: 0.3307 - acc: 0.9217 - recall: 1.0000 - precision: 0.9217 - fmeasure: 0.9589\n",
      "Epoch 7/10\n",
      "0s - loss: 0.3161 - acc: 0.9217 - recall: 1.0000 - precision: 0.9217 - fmeasure: 0.9590\n",
      "Epoch 8/10\n",
      "0s - loss: 0.3055 - acc: 0.9217 - recall: 1.0000 - precision: 0.9217 - fmeasure: 0.9588\n",
      "Epoch 9/10\n",
      "0s - loss: 0.2984 - acc: 0.9217 - recall: 1.0000 - precision: 0.9217 - fmeasure: 0.9582\n",
      "Epoch 10/10\n",
      "0s - loss: 0.2926 - acc: 0.9217 - recall: 1.0000 - precision: 0.9217 - fmeasure: 0.9587\n",
      "Epoch 1/10\n",
      "1s - loss: 0.6086 - acc: 0.7880 - recall: 0.9908 - precision: 0.7932 - fmeasure: 0.8795\n",
      "Epoch 2/10\n",
      "0s - loss: 0.5621 - acc: 0.7926 - recall: 0.9973 - precision: 0.7946 - fmeasure: 0.8833\n",
      "Epoch 3/10\n",
      "0s - loss: 0.5386 - acc: 0.7926 - recall: 0.9974 - precision: 0.7947 - fmeasure: 0.8828\n",
      "Epoch 4/10\n",
      "0s - loss: 0.5228 - acc: 0.7926 - recall: 0.9969 - precision: 0.7943 - fmeasure: 0.8827\n",
      "Epoch 5/10\n",
      "0s - loss: 0.5109 - acc: 0.7926 - recall: 0.9974 - precision: 0.7947 - fmeasure: 0.8836\n",
      "Epoch 6/10\n",
      "0s - loss: 0.5006 - acc: 0.7926 - recall: 0.9973 - precision: 0.7946 - fmeasure: 0.8839\n",
      "Epoch 7/10\n",
      "0s - loss: 0.4926 - acc: 0.7949 - recall: 0.9972 - precision: 0.7962 - fmeasure: 0.8845\n",
      "Epoch 8/10\n",
      "0s - loss: 0.4868 - acc: 0.7995 - recall: 0.9972 - precision: 0.8008 - fmeasure: 0.8859\n",
      "Epoch 9/10\n",
      "0s - loss: 0.4803 - acc: 0.8041 - recall: 0.9972 - precision: 0.8040 - fmeasure: 0.8895\n",
      "Epoch 10/10\n",
      "0s - loss: 0.4762 - acc: 0.7995 - recall: 0.9864 - precision: 0.8063 - fmeasure: 0.8856\n",
      "Epoch 1/10\n",
      "1s - loss: 0.6465 - acc: 0.7189 - recall: 0.8518 - precision: 0.7782 - fmeasure: 0.8072\n",
      "Epoch 2/10\n",
      "0s - loss: 0.5880 - acc: 0.8088 - recall: 1.0000 - precision: 0.8088 - fmeasure: 0.8936\n",
      "Epoch 3/10\n",
      "0s - loss: 0.5546 - acc: 0.8088 - recall: 1.0000 - precision: 0.8088 - fmeasure: 0.8927\n",
      "Epoch 4/10\n",
      "0s - loss: 0.5314 - acc: 0.8088 - recall: 1.0000 - precision: 0.8088 - fmeasure: 0.8939\n",
      "Epoch 5/10\n",
      "0s - loss: 0.5141 - acc: 0.8088 - recall: 1.0000 - precision: 0.8088 - fmeasure: 0.8920\n",
      "Epoch 6/10\n",
      "0s - loss: 0.4993 - acc: 0.8111 - recall: 1.0000 - precision: 0.8104 - fmeasure: 0.8945\n",
      "Epoch 7/10\n",
      "0s - loss: 0.4882 - acc: 0.8134 - recall: 0.9943 - precision: 0.8159 - fmeasure: 0.8959\n",
      "Epoch 8/10\n",
      "0s - loss: 0.4798 - acc: 0.8157 - recall: 0.9941 - precision: 0.8174 - fmeasure: 0.8963\n",
      "Epoch 9/10\n",
      "0s - loss: 0.4728 - acc: 0.8203 - recall: 0.9942 - precision: 0.8220 - fmeasure: 0.8980\n",
      "Epoch 10/10\n",
      "0s - loss: 0.4660 - acc: 0.8203 - recall: 0.9940 - precision: 0.8211 - fmeasure: 0.8986\n",
      "Epoch 1/10\n",
      "1s - loss: 0.6382 - acc: 0.7471 - recall: 0.8795 - precision: 0.8224 - fmeasure: 0.8230\n",
      "Epoch 2/10\n",
      "0s - loss: 0.5572 - acc: 0.8276 - recall: 1.0000 - precision: 0.8276 - fmeasure: 0.9054\n",
      "Epoch 3/10\n",
      "0s - loss: 0.5185 - acc: 0.8276 - recall: 1.0000 - precision: 0.8276 - fmeasure: 0.9052\n",
      "Epoch 4/10\n",
      "0s - loss: 0.4966 - acc: 0.8276 - recall: 1.0000 - precision: 0.8276 - fmeasure: 0.9052\n",
      "Epoch 5/10\n",
      "0s - loss: 0.4823 - acc: 0.8276 - recall: 1.0000 - precision: 0.8276 - fmeasure: 0.9051\n",
      "Epoch 6/10\n",
      "0s - loss: 0.4717 - acc: 0.8276 - recall: 1.0000 - precision: 0.8276 - fmeasure: 0.9051\n",
      "Epoch 7/10\n",
      "0s - loss: 0.4631 - acc: 0.8253 - recall: 0.9974 - precision: 0.8273 - fmeasure: 0.9037\n",
      "Epoch 8/10\n",
      "0s - loss: 0.4559 - acc: 0.8253 - recall: 0.9974 - precision: 0.8273 - fmeasure: 0.9029\n",
      "Epoch 9/10\n",
      "0s - loss: 0.4498 - acc: 0.8230 - recall: 0.9936 - precision: 0.8262 - fmeasure: 0.9015\n",
      "Epoch 10/10\n",
      "0s - loss: 0.4443 - acc: 0.8230 - recall: 0.9945 - precision: 0.8268 - fmeasure: 0.9024\n",
      "Epoch 1/10\n",
      "1s - loss: 0.6474 - acc: 0.7540 - recall: 0.8924 - precision: 0.8200 - fmeasure: 0.8476\n",
      "Epoch 2/10\n",
      "0s - loss: 0.5828 - acc: 0.8253 - recall: 0.9973 - precision: 0.8272 - fmeasure: 0.9032\n",
      "Epoch 3/10\n",
      "0s - loss: 0.5423 - acc: 0.8276 - recall: 1.0000 - precision: 0.8276 - fmeasure: 0.9040\n",
      "Epoch 4/10\n",
      "0s - loss: 0.5139 - acc: 0.8276 - recall: 1.0000 - precision: 0.8276 - fmeasure: 0.9052\n",
      "Epoch 5/10\n",
      "0s - loss: 0.4945 - acc: 0.8276 - recall: 1.0000 - precision: 0.8276 - fmeasure: 0.9050\n",
      "Epoch 6/10\n",
      "0s - loss: 0.4804 - acc: 0.8276 - recall: 1.0000 - precision: 0.8276 - fmeasure: 0.9050\n",
      "Epoch 7/10\n",
      "0s - loss: 0.4692 - acc: 0.8276 - recall: 1.0000 - precision: 0.8276 - fmeasure: 0.9045\n",
      "Epoch 8/10\n",
      "0s - loss: 0.4594 - acc: 0.8276 - recall: 1.0000 - precision: 0.8276 - fmeasure: 0.9054\n",
      "Epoch 9/10\n",
      "0s - loss: 0.4525 - acc: 0.8276 - recall: 0.9974 - precision: 0.8291 - fmeasure: 0.9044\n",
      "Epoch 10/10\n",
      "0s - loss: 0.4450 - acc: 0.8253 - recall: 0.9973 - precision: 0.8272 - fmeasure: 0.9041\n",
      "Epoch 1/10\n",
      "1s - loss: 0.6734 - acc: 0.6498 - recall: 0.6757 - precision: 0.9074 - fmeasure: 0.6979\n",
      "Epoch 2/10\n",
      "0s - loss: 0.5369 - acc: 0.9217 - recall: 1.0000 - precision: 0.9217 - fmeasure: 0.9586\n",
      "Epoch 3/10\n",
      "0s - loss: 0.4577 - acc: 0.9217 - recall: 1.0000 - precision: 0.9217 - fmeasure: 0.9589\n",
      "Epoch 4/10\n",
      "0s - loss: 0.4058 - acc: 0.9217 - recall: 1.0000 - precision: 0.9217 - fmeasure: 0.9586\n",
      "Epoch 5/10\n",
      "0s - loss: 0.3712 - acc: 0.9217 - recall: 1.0000 - precision: 0.9217 - fmeasure: 0.9590\n",
      "Epoch 6/10\n",
      "0s - loss: 0.3456 - acc: 0.9217 - recall: 1.0000 - precision: 0.9217 - fmeasure: 0.9589\n",
      "Epoch 7/10\n"
     ]
    },
    {
     "name": "stdout",
     "output_type": "stream",
     "text": [
      "0s - loss: 0.3277 - acc: 0.9217 - recall: 1.0000 - precision: 0.9217 - fmeasure: 0.9581\n",
      "Epoch 8/10\n",
      "0s - loss: 0.3141 - acc: 0.9217 - recall: 1.0000 - precision: 0.9217 - fmeasure: 0.9587\n",
      "Epoch 9/10\n",
      "0s - loss: 0.3046 - acc: 0.9217 - recall: 1.0000 - precision: 0.9217 - fmeasure: 0.9590\n",
      "Epoch 10/10\n",
      "0s - loss: 0.2973 - acc: 0.9217 - recall: 1.0000 - precision: 0.9217 - fmeasure: 0.9589\n",
      "Epoch 1/10\n",
      "1s - loss: 0.6057 - acc: 0.7949 - recall: 0.9941 - precision: 0.7977 - fmeasure: 0.8842\n",
      "Epoch 2/10\n",
      "0s - loss: 0.5519 - acc: 0.7949 - recall: 1.0000 - precision: 0.7949 - fmeasure: 0.8841\n",
      "Epoch 3/10\n",
      "0s - loss: 0.5254 - acc: 0.7949 - recall: 1.0000 - precision: 0.7949 - fmeasure: 0.8854\n",
      "Epoch 4/10\n",
      "0s - loss: 0.5101 - acc: 0.7949 - recall: 1.0000 - precision: 0.7949 - fmeasure: 0.8851\n",
      "Epoch 5/10\n",
      "0s - loss: 0.4995 - acc: 0.7949 - recall: 1.0000 - precision: 0.7949 - fmeasure: 0.8839\n",
      "Epoch 6/10\n",
      "0s - loss: 0.4914 - acc: 0.7949 - recall: 1.0000 - precision: 0.7949 - fmeasure: 0.8853\n",
      "Epoch 7/10\n",
      "0s - loss: 0.4853 - acc: 0.7926 - recall: 0.9973 - precision: 0.7946 - fmeasure: 0.8837\n",
      "Epoch 8/10\n",
      "0s - loss: 0.4799 - acc: 0.7903 - recall: 0.9915 - precision: 0.7954 - fmeasure: 0.8821\n",
      "Epoch 9/10\n",
      "0s - loss: 0.4748 - acc: 0.7995 - recall: 0.9939 - precision: 0.8011 - fmeasure: 0.8864\n",
      "Epoch 10/10\n",
      "0s - loss: 0.4706 - acc: 0.7995 - recall: 0.9938 - precision: 0.8013 - fmeasure: 0.8864\n",
      "Epoch 1/10\n",
      "1s - loss: 0.6342 - acc: 0.7650 - recall: 0.9157 - precision: 0.8041 - fmeasure: 0.8539\n",
      "Epoch 2/10\n",
      "0s - loss: 0.5756 - acc: 0.8065 - recall: 0.9938 - precision: 0.8093 - fmeasure: 0.8914\n",
      "Epoch 3/10\n",
      "0s - loss: 0.5459 - acc: 0.8065 - recall: 0.9973 - precision: 0.8084 - fmeasure: 0.8925\n",
      "Epoch 4/10\n",
      "0s - loss: 0.5250 - acc: 0.8111 - recall: 1.0000 - precision: 0.8108 - fmeasure: 0.8951\n",
      "Epoch 5/10\n",
      "0s - loss: 0.5073 - acc: 0.8111 - recall: 1.0000 - precision: 0.8108 - fmeasure: 0.8953\n",
      "Epoch 6/10\n",
      "0s - loss: 0.4940 - acc: 0.8134 - recall: 1.0000 - precision: 0.8123 - fmeasure: 0.8954\n",
      "Epoch 7/10\n",
      "0s - loss: 0.4835 - acc: 0.8111 - recall: 0.9938 - precision: 0.8136 - fmeasure: 0.8932\n",
      "Epoch 8/10\n",
      "0s - loss: 0.4741 - acc: 0.8134 - recall: 0.9945 - precision: 0.8152 - fmeasure: 0.8951\n",
      "Epoch 9/10\n",
      "0s - loss: 0.4661 - acc: 0.8134 - recall: 0.9946 - precision: 0.8158 - fmeasure: 0.8954\n",
      "Epoch 10/10\n",
      "0s - loss: 0.4603 - acc: 0.8134 - recall: 0.9948 - precision: 0.8156 - fmeasure: 0.8952\n",
      "Epoch 1/10\n",
      "1s - loss: 0.6153 - acc: 0.8230 - recall: 0.9948 - precision: 0.8270 - fmeasure: 0.9019\n",
      "Epoch 2/10\n",
      "0s - loss: 0.5619 - acc: 0.8276 - recall: 1.0000 - precision: 0.8276 - fmeasure: 0.9039\n",
      "Epoch 3/10\n",
      "0s - loss: 0.5304 - acc: 0.8276 - recall: 1.0000 - precision: 0.8276 - fmeasure: 0.9047\n",
      "Epoch 4/10\n",
      "0s - loss: 0.5089 - acc: 0.8276 - recall: 1.0000 - precision: 0.8276 - fmeasure: 0.9044\n",
      "Epoch 5/10\n",
      "0s - loss: 0.4944 - acc: 0.8276 - recall: 1.0000 - precision: 0.8276 - fmeasure: 0.9048\n",
      "Epoch 6/10\n",
      "0s - loss: 0.4817 - acc: 0.8253 - recall: 0.9973 - precision: 0.8273 - fmeasure: 0.9040\n",
      "Epoch 7/10\n",
      "0s - loss: 0.4712 - acc: 0.8253 - recall: 0.9971 - precision: 0.8271 - fmeasure: 0.9032\n",
      "Epoch 8/10\n",
      "0s - loss: 0.4626 - acc: 0.8276 - recall: 1.0000 - precision: 0.8276 - fmeasure: 0.9050\n",
      "Epoch 9/10\n",
      "0s - loss: 0.4548 - acc: 0.8253 - recall: 0.9971 - precision: 0.8271 - fmeasure: 0.9036\n",
      "Epoch 10/10\n",
      "0s - loss: 0.4495 - acc: 0.8276 - recall: 0.9974 - precision: 0.8290 - fmeasure: 0.9044\n",
      "Epoch 1/10\n",
      "2s - loss: 0.5889 - acc: 0.8115 - recall: 0.9732 - precision: 0.8266 - fmeasure: 0.8928\n",
      "Epoch 2/10\n",
      "0s - loss: 0.5271 - acc: 0.8253 - recall: 0.9972 - precision: 0.8272 - fmeasure: 0.9033\n",
      "Epoch 3/10\n",
      "0s - loss: 0.5005 - acc: 0.8276 - recall: 1.0000 - precision: 0.8276 - fmeasure: 0.9042\n",
      "Epoch 4/10\n",
      "0s - loss: 0.4832 - acc: 0.8276 - recall: 1.0000 - precision: 0.8276 - fmeasure: 0.9054\n",
      "Epoch 5/10\n",
      "0s - loss: 0.4713 - acc: 0.8276 - recall: 1.0000 - precision: 0.8276 - fmeasure: 0.9048\n",
      "Epoch 6/10\n",
      "0s - loss: 0.4618 - acc: 0.8253 - recall: 0.9973 - precision: 0.8273 - fmeasure: 0.9036\n",
      "Epoch 7/10\n",
      "0s - loss: 0.4532 - acc: 0.8253 - recall: 0.9972 - precision: 0.8272 - fmeasure: 0.9041\n",
      "Epoch 8/10\n",
      "0s - loss: 0.4459 - acc: 0.8299 - recall: 0.9973 - precision: 0.8311 - fmeasure: 0.9064\n",
      "Epoch 9/10\n",
      "0s - loss: 0.4402 - acc: 0.8322 - recall: 0.9973 - precision: 0.8330 - fmeasure: 0.9073\n",
      "Epoch 10/10\n",
      "0s - loss: 0.4343 - acc: 0.8322 - recall: 0.9942 - precision: 0.8341 - fmeasure: 0.9059\n",
      "Epoch 1/10\n",
      "1s - loss: 0.6796 - acc: 0.6114 - recall: 0.6635 - precision: 0.6908 - fmeasure: nan\n",
      "Epoch 2/10\n",
      "0s - loss: 0.5911 - acc: 0.8343 - recall: 0.9977 - precision: 0.8357 - fmeasure: 0.9087\n",
      "Epoch 3/10\n",
      "0s - loss: 0.5387 - acc: 0.8361 - recall: 1.0000 - precision: 0.8361 - fmeasure: 0.9105\n",
      "Epoch 4/10\n",
      "0s - loss: 0.5054 - acc: 0.8361 - recall: 1.0000 - precision: 0.8361 - fmeasure: 0.9095\n",
      "Epoch 5/10\n",
      "0s - loss: 0.4820 - acc: 0.8361 - recall: 1.0000 - precision: 0.8361 - fmeasure: 0.9100\n",
      "Epoch 6/10\n",
      "0s - loss: 0.4673 - acc: 0.8361 - recall: 1.0000 - precision: 0.8361 - fmeasure: 0.9096\n",
      "Epoch 7/10\n",
      "0s - loss: 0.4562 - acc: 0.8343 - recall: 0.9980 - precision: 0.8359 - fmeasure: 0.9088\n",
      "Epoch 8/10\n",
      "0s - loss: 0.4481 - acc: 0.8343 - recall: 0.9980 - precision: 0.8359 - fmeasure: 0.9087\n",
      "Epoch 9/10\n",
      "0s - loss: 0.4400 - acc: 0.8343 - recall: 0.9952 - precision: 0.8368 - fmeasure: 0.9083\n",
      "Epoch 10/10\n",
      "0s - loss: 0.4338 - acc: 0.8379 - recall: 0.9957 - precision: 0.8400 - fmeasure: 0.9106\n"
     ]
    },
    {
     "data": {
      "text/plain": [
       "GridSearchCV(cv=5, error_score='raise',\n",
       "       estimator=<keras.wrappers.scikit_learn.KerasClassifier object at 0x0000024014BC3BE0>,\n",
       "       fit_params={}, iid=True, n_jobs=1,\n",
       "       param_grid={'epochs': [10], 'init': ['glorot_uniform', 'normal', 'uniform'], 'batch_size': [50], 'optimizer': ['rmsprop', 'adam']},\n",
       "       pre_dispatch='2*n_jobs', refit=True, return_train_score=True,\n",
       "       scoring='f1', verbose=0)"
      ]
     },
     "execution_count": 35,
     "metadata": {},
     "output_type": "execute_result"
    }
   ],
   "source": [
    "Kgrid.fit(numpy.asarray(X), numpy.asarray(y))"
   ]
  },
  {
   "cell_type": "code",
   "execution_count": 36,
   "metadata": {},
   "outputs": [
    {
     "data": {
      "text/plain": [
       "[mean: 0.89297, std: 0.11825, params: {'epochs': 10, 'init': 'glorot_uniform', 'optimizer': 'rmsprop', 'batch_size': 50},\n",
       " mean: 0.89399, std: 0.11873, params: {'epochs': 10, 'init': 'glorot_uniform', 'optimizer': 'adam', 'batch_size': 50},\n",
       " mean: 0.89491, std: 0.11902, params: {'epochs': 10, 'init': 'normal', 'optimizer': 'rmsprop', 'batch_size': 50},\n",
       " mean: 0.89292, std: 0.11846, params: {'epochs': 10, 'init': 'normal', 'optimizer': 'adam', 'batch_size': 50},\n",
       " mean: 0.89499, std: 0.11923, params: {'epochs': 10, 'init': 'uniform', 'optimizer': 'rmsprop', 'batch_size': 50},\n",
       " mean: 0.89499, std: 0.11923, params: {'epochs': 10, 'init': 'uniform', 'optimizer': 'adam', 'batch_size': 50}]"
      ]
     },
     "execution_count": 36,
     "metadata": {},
     "output_type": "execute_result"
    }
   ],
   "source": [
    "# create a list of the mean scores only\n",
    "Kgrid.grid_scores_"
   ]
  },
  {
   "cell_type": "code",
   "execution_count": 37,
   "metadata": {},
   "outputs": [
    {
     "name": "stdout",
     "output_type": "stream",
     "text": [
      "0.89499489684\n",
      "{'epochs': 10, 'init': 'uniform', 'optimizer': 'rmsprop', 'batch_size': 50}\n",
      "<keras.wrappers.scikit_learn.KerasClassifier object at 0x000002402BD227F0>\n"
     ]
    }
   ],
   "source": [
    "# examine the best model\n",
    "print(Kgrid.best_score_)\n",
    "print(Kgrid.best_params_)\n",
    "print(Kgrid.best_estimator_)"
   ]
  },
  {
   "cell_type": "raw",
   "metadata": {
    "collapsed": true
   },
   "source": [
    "##SVM"
   ]
  },
  {
   "cell_type": "code",
   "execution_count": 38,
   "metadata": {
    "collapsed": true
   },
   "outputs": [],
   "source": [
    "from sklearn import svm"
   ]
  },
  {
   "cell_type": "code",
   "execution_count": null,
   "metadata": {
    "collapsed": true
   },
   "outputs": [],
   "source": [
    "# Setup 5-fold stratified cross validation\n",
    "#cross_v = StratifiedKFold(n_splits=10)"
   ]
  },
  {
   "cell_type": "code",
   "execution_count": null,
   "metadata": {},
   "outputs": [
    {
     "name": "stderr",
     "output_type": "stream",
     "text": [
      "[Parallel(n_jobs=1)]: Done 400 out of 400 | elapsed:    0.1s finished\n"
     ]
    },
    {
     "name": "stdout",
     "output_type": "stream",
     "text": [
      "Kernel: \n",
      "linear\n",
      "[mean: 0.91073, std: 0.00148, params: {'C': 0.001, 'gamma': 0.001}, mean: 0.91073, std: 0.00148, params: {'C': 0.001, 'gamma': 0.01}, mean: 0.91073, std: 0.00148, params: {'C': 0.001, 'gamma': 0.1}, mean: 0.91073, std: 0.00148, params: {'C': 0.001, 'gamma': 1}, mean: 0.91073, std: 0.00148, params: {'C': 0.01, 'gamma': 0.001}, mean: 0.91073, std: 0.00148, params: {'C': 0.01, 'gamma': 0.01}, mean: 0.91073, std: 0.00148, params: {'C': 0.01, 'gamma': 0.1}, mean: 0.91073, std: 0.00148, params: {'C': 0.01, 'gamma': 1}, mean: 0.91073, std: 0.00148, params: {'C': 0.1, 'gamma': 0.001}, mean: 0.91073, std: 0.00148, params: {'C': 0.1, 'gamma': 0.01}, mean: 0.91073, std: 0.00148, params: {'C': 0.1, 'gamma': 0.1}, mean: 0.91073, std: 0.00148, params: {'C': 0.1, 'gamma': 1}, mean: 0.91073, std: 0.00148, params: {'C': 1, 'gamma': 0.001}, mean: 0.91073, std: 0.00148, params: {'C': 1, 'gamma': 0.01}, mean: 0.91073, std: 0.00148, params: {'C': 1, 'gamma': 0.1}, mean: 0.91073, std: 0.00148, params: {'C': 1, 'gamma': 1}, mean: 0.90380, std: 0.01263, params: {'C': 10, 'gamma': 0.001}, mean: 0.90380, std: 0.01263, params: {'C': 10, 'gamma': 0.01}, mean: 0.90380, std: 0.01263, params: {'C': 10, 'gamma': 0.1}, mean: 0.90380, std: 0.01263, params: {'C': 10, 'gamma': 1}]\n",
      "0.910730197904\n",
      "{'C': 0.001, 'gamma': 0.001}\n",
      "SVC(C=0.001, cache_size=200, class_weight=None, coef0=0.0,\n",
      "  decision_function_shape=None, degree=3, gamma=0.001, kernel='linear',\n",
      "  max_iter=-1, probability=False, random_state=None, shrinking=True,\n",
      "  tol=0.001, verbose=False)\n",
      "[[ 89   0]\n",
      " [  0 454]]\n",
      "\n"
     ]
    },
    {
     "name": "stderr",
     "output_type": "stream",
     "text": [
      "[Parallel(n_jobs=1)]: Done 400 out of 400 | elapsed:    0.1s finished\n"
     ]
    },
    {
     "name": "stdout",
     "output_type": "stream",
     "text": [
      "Kernel: \n",
      "poly\n",
      "[mean: 0.91073, std: 0.00148, params: {'C': 0.001, 'gamma': 0.001}, mean: 0.91073, std: 0.00148, params: {'C': 0.001, 'gamma': 0.01}, mean: 0.91073, std: 0.00148, params: {'C': 0.001, 'gamma': 0.1}, mean: 0.90964, std: 0.00073, params: {'C': 0.001, 'gamma': 1}, mean: 0.91073, std: 0.00148, params: {'C': 0.01, 'gamma': 0.001}, mean: 0.91073, std: 0.00148, params: {'C': 0.01, 'gamma': 0.01}, mean: 0.91073, std: 0.00148, params: {'C': 0.01, 'gamma': 0.1}, mean: 0.90726, std: 0.00349, params: {'C': 0.01, 'gamma': 1}, mean: 0.91073, std: 0.00148, params: {'C': 0.1, 'gamma': 0.001}, mean: 0.91073, std: 0.00148, params: {'C': 0.1, 'gamma': 0.01}, mean: 0.91073, std: 0.00148, params: {'C': 0.1, 'gamma': 0.1}, mean: 0.90334, std: 0.00449, params: {'C': 0.1, 'gamma': 1}, mean: 0.91073, std: 0.00148, params: {'C': 1, 'gamma': 0.001}, mean: 0.91073, std: 0.00148, params: {'C': 1, 'gamma': 0.01}, mean: 0.90964, std: 0.00073, params: {'C': 1, 'gamma': 0.1}, mean: 0.90266, std: 0.01078, params: {'C': 1, 'gamma': 1}, mean: 0.91073, std: 0.00148, params: {'C': 10, 'gamma': 0.001}, mean: 0.91073, std: 0.00148, params: {'C': 10, 'gamma': 0.01}, mean: 0.90726, std: 0.00349, params: {'C': 10, 'gamma': 0.1}, mean: 0.89486, std: 0.01395, params: {'C': 10, 'gamma': 1}]\n",
      "0.910730197904\n",
      "{'C': 0.001, 'gamma': 0.001}\n",
      "SVC(C=0.001, cache_size=200, class_weight=None, coef0=0.0,\n",
      "  decision_function_shape=None, degree=3, gamma=0.001, kernel='poly',\n",
      "  max_iter=-1, probability=False, random_state=None, shrinking=True,\n",
      "  tol=0.001, verbose=False)\n",
      "[[ 89   0]\n",
      " [  0 454]]\n",
      "\n"
     ]
    }
   ],
   "source": [
    "#Create SVM classifier \n",
    "Cs = [0.001, 0.01, 0.1, 1, 10]\n",
    "gammas = [0.001, 0.01, 0.1, 1]\n",
    "param_grid = {'C': Cs, 'gamma' : gammas}\n",
    "\n",
    "# fit the model\n",
    "for kernel in ('linear', 'poly', 'rbf'):\n",
    "    gs = GridSearchCV(svm.SVC(kernel=kernel, gamma='auto'), param_grid=param_grid, cv=StratifiedKFold(n_splits=5), scoring='f1')\n",
    "    gs.fit(X, y)\n",
    "    \n",
    "        \n",
    "    #To see predicted values, for confusion matrix\n",
    "    y1_pred = clf.best_estimator_.predict(X)\n",
    "    \n",
    "    # examine the best model\n",
    "    print('Kernel: ' )\n",
    "    print(kernel)\n",
    "    print(gs.grid_scores_) # create a list of the mean scores only\n",
    "    print(gs.best_score_)\n",
    "    print(gs.best_params_)\n",
    "    print(gs.best_estimator_)\n",
    "    print(confusion_matrix(y, y1_pred))\n",
    "    print('')"
   ]
  }
 ],
 "metadata": {
  "kernelspec": {
   "display_name": "Python 3",
   "language": "python",
   "name": "python3"
  },
  "language_info": {
   "codemirror_mode": {
    "name": "ipython",
    "version": 3
   },
   "file_extension": ".py",
   "mimetype": "text/x-python",
   "name": "python",
   "nbconvert_exporter": "python",
   "pygments_lexer": "ipython3",
   "version": "3.5.3"
  }
 },
 "nbformat": 4,
 "nbformat_minor": 2
}
